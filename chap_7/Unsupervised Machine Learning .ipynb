{
 "cells": [
  {
   "cell_type": "code",
   "execution_count": 1,
   "metadata": {},
   "outputs": [],
   "source": [
    "from pyspark.sql import SparkSession\n",
    "spark = SparkSession.builder.appName('clustering').getOrCreate()"
   ]
  },
  {
   "cell_type": "code",
   "execution_count": 2,
   "metadata": {},
   "outputs": [],
   "source": [
    "import pyspark\n",
    "import pandas as pd\n",
    "import numpy as np\n",
    "import matplotlib.pyplot as plt\n",
    "from pyspark.sql.functions import * \n",
    "from pyspark.sql.types import *\n",
    "from pyspark.sql.functions import rand, randn\n",
    "from pyspark.ml.clustering import KMeans\n",
    "from pyspark.sql.functions import sha2\n"
   ]
  },
  {
   "cell_type": "code",
   "execution_count": 3,
   "metadata": {},
   "outputs": [],
   "source": [
    "#read the dataset\n",
    "df=spark.read.csv('music_data.csv',inferSchema=True,header=True)"
   ]
  },
  {
   "cell_type": "code",
   "execution_count": 4,
   "metadata": {},
   "outputs": [
    {
     "data": {
      "text/plain": [
       "429023"
      ]
     },
     "execution_count": 4,
     "metadata": {},
     "output_type": "execute_result"
    }
   ],
   "source": [
    "df.count()"
   ]
  },
  {
   "cell_type": "code",
   "execution_count": 5,
   "metadata": {},
   "outputs": [
    {
     "name": "stdout",
     "output_type": "stream",
     "text": [
      "root\n",
      " |-- user_id: string (nullable = true)\n",
      " |-- music category: string (nullable = true)\n",
      "\n"
     ]
    }
   ],
   "source": [
    "df.printSchema()"
   ]
  },
  {
   "cell_type": "code",
   "execution_count": 40,
   "metadata": {},
   "outputs": [
    {
     "data": {
      "text/plain": [
       "21"
      ]
     },
     "execution_count": 40,
     "metadata": {},
     "output_type": "execute_result"
    }
   ],
   "source": [
    "df.select('music category').distinct().count()"
   ]
  },
  {
   "cell_type": "code",
   "execution_count": 6,
   "metadata": {},
   "outputs": [
    {
     "name": "stdout",
     "output_type": "stream",
     "text": [
      "+-----------------+-----+\n",
      "|music category   |count|\n",
      "+-----------------+-----+\n",
      "|Alternative Music|64227|\n",
      "|Blues            |54647|\n",
      "|Classical Music  |43117|\n",
      "|Country Music    |39891|\n",
      "|Dance Music      |35779|\n",
      "|Easy Listening   |34356|\n",
      "|Electronic Music |30985|\n",
      "|Rap              |29569|\n",
      "|Hip Hop          |16895|\n",
      "|Indie Pop        |16244|\n",
      "|Motivational     |10118|\n",
      "|Asian Pop        |8444 |\n",
      "|Jazz             |7685 |\n",
      "|Latin Music      |7302 |\n",
      "|New Age          |7053 |\n",
      "|Opera            |6188 |\n",
      "|Hindi Music      |5689 |\n",
      "|Popular          |4729 |\n",
      "|Soulful          |2403 |\n",
      "|Reggae           |1970 |\n",
      "|Rock             |1732 |\n",
      "+-----------------+-----+\n",
      "\n"
     ]
    }
   ],
   "source": [
    "df.groupBy('music category').count().orderBy('count',ascending=False).show(100,False)"
   ]
  },
  {
   "cell_type": "code",
   "execution_count": 7,
   "metadata": {},
   "outputs": [
    {
     "data": {
      "text/plain": [
       "775"
      ]
     },
     "execution_count": 7,
     "metadata": {},
     "output_type": "execute_result"
    }
   ],
   "source": [
    "df.select('user_id').distinct().count()"
   ]
  },
  {
   "cell_type": "code",
   "execution_count": 42,
   "metadata": {},
   "outputs": [
    {
     "name": "stdout",
     "output_type": "stream",
     "text": [
      "+----------------------------------------------------------------+-----+\n",
      "|user_id                                                         |count|\n",
      "+----------------------------------------------------------------+-----+\n",
      "|628119a73b9725466e6c309f803d30cfc3b11d2a426cdd5f0d62a496e105c914|14257|\n",
      "|179dd34be075e729f14dadc28a34459226c4f62797af5f186bddbb7428b8fc78|11804|\n",
      "|2d765ea4ffc6554c95a1c703afcd3470bc118a65c2f0728871f4d0f40628f41b|11001|\n",
      "|ca60aad85306a7fdd51a469ca6a5d27109dfd5f5781d7da985c70574d2520d23|10479|\n",
      "|03bfd7e24d3a7ce9e3973f9d42ad89e4c1710b89bec59b2b08712ba73372dcbc|10075|\n",
      "|7660ca8a4f5df748976aac001d5f0c5b7c8806f5c08197542d26c2eac4b20f85|9932 |\n",
      "|b6eb8ef9cacc79b6779a7e065c3b0fb5174397ea983d70453bc978b6e46f95e2|7694 |\n",
      "|e92f348b4a29089c9d7b82095d0bd49422153b60bbde08527015121e44699990|7210 |\n",
      "|da03e0ef521fecb209f01410eefff11c115fda2d217dde51fd870761b31bb968|7182 |\n",
      "|04cd1fc5c925a8a702607d6c1a047b8e0cbe170bdaed5270369d321f73254b53|6853 |\n",
      "|a2374ccb47b0af60aafabeed11b979acf0d72e1afe7f96b671302aaa51592531|6730 |\n",
      "|1ed20907b0eb013b6d2b8097671c5faaaae884ac9ae4b77753ee7d640036e080|6612 |\n",
      "|19152e9dc36bd8fdded0be20e1a371cc5a57edd5a248973c9fa5b8ed4c8bdb0c|5378 |\n",
      "|dd69f69a8df66f0d79c8a2ce41ace204dbb74e1a5a3ae36c511b8cd9ef9000a5|5255 |\n",
      "|1b2dfdebfa64564c8eb7785c77b9f1cdaee6059b63b30a59c2701fee6c20407c|4928 |\n",
      "|7cc577809aedea3d9423fccf6091258b9a7a0b66089d6aa86689548139c36e4b|4450 |\n",
      "|0d5b7fbb167130690b8a7149d81529a2048242945a64b46c427915e8fded9e75|4371 |\n",
      "|7a39568d24f3b1a953c2bc98d638cdc2b7eb02f0e6ddcee29bbc5034ec9ad76e|4324 |\n",
      "|e6f90a69588f335223ac774391f7a1835d9225dc8f2090fd59265d9836783f25|4301 |\n",
      "|4ab70e2a682304ce1b4b3b292b015ae343f255aca18863a4fe47a69ffd3470f8|4277 |\n",
      "+----------------------------------------------------------------+-----+\n",
      "only showing top 20 rows\n",
      "\n"
     ]
    }
   ],
   "source": [
    "df.groupBy('user_id').count().orderBy('count',ascending=False).show(20,False)"
   ]
  },
  {
   "cell_type": "code",
   "execution_count": 43,
   "metadata": {},
   "outputs": [
    {
     "name": "stdout",
     "output_type": "stream",
     "text": [
      "+----------------------------------------------------------------+-----+\n",
      "|user_id                                                         |count|\n",
      "+----------------------------------------------------------------+-----+\n",
      "|bdb448f271ec83b324acd32248f1401964cb1f5f716e94eebed508f02e889e14|1    |\n",
      "|4d5920f000b000d60fdc63043886f47cc056d2835d3a73e50f389a5694b19115|1    |\n",
      "|597affc56ba81274561da2b3541a8e1a30f7bbcf75cb54a9f9c1a885d88f7f7b|1    |\n",
      "|ba35ab150a757e0b3abf9c5f11b7686e5394f6cdcb59d257f9fd2e1dd7cf23c2|1    |\n",
      "|7ba2fabcbbd4705128a8966d4d5fcf9d3e284c77fada7752da397f479ad4a12e|1    |\n",
      "|402c7aac3776a3758ca143819a0653c6cd33c6c35dd831d9ba5aad1dff43a888|1    |\n",
      "|ecb27d9bf54e751018cd6c1cc5a0f2d812ff08585271acfc980bdacb742a7a02|1    |\n",
      "|8aced64c96741dbeab4659f102f34c157189b3f7a63807d87bad5d8c663005cb|1    |\n",
      "|a09074b27cd4ab61654c0f4e21bc5e97dc86a611743a1f8b37db3a76df8e306e|1    |\n",
      "|e6e6ceb674b7ca53391ac404558a3f8d222db82c643b8c21070db4f029a50095|1    |\n",
      "|8caf42bf00baea90141dec822bece26fc54bf9884c7dbf0439b445fb98b50152|1    |\n",
      "|1e3e7153bf1aa5f43b1d1f27c940087587a50d40d399f4cf31b58546a39b9f26|1    |\n",
      "|55efc631da61b192de874d5e2b05ea1e04ec08bd2e3009ebcd0053a84bbd4341|1    |\n",
      "|760430c89527a8b503dd02bada46926938c5ad036b7ca08a21d685fe5a89f01e|1    |\n",
      "|d631ffaf7f6731b146cecbf16c02fc543d02f5a8377561e5dd60a9eba603e001|1    |\n",
      "|1e6fb89e6aca7641dba8bbd87e97badb8306f1ce50c02c2b0a6f36457e843221|1    |\n",
      "|54f2e60bd31a775aca7fb60816c6990a415fe66694098d1ee64cc9e13f831a64|1    |\n",
      "|8691b41f5ae65644c8aca0ec9d738eb3b5537b106f0fdcb3f652cc77b7ab7dd6|1    |\n",
      "|205f3e9ec7c33098d85500bcf5dd0886526ee1bf1c0609ad5358994bc0a632e6|2    |\n",
      "|964c0029f932feb9c7ecea499317d9e0c40020d3276e9956d71a7887321369ee|2    |\n",
      "+----------------------------------------------------------------+-----+\n",
      "only showing top 20 rows\n",
      "\n"
     ]
    }
   ],
   "source": [
    "df.groupBy('user_id').count().orderBy('count',ascending=True).show(20,False)"
   ]
  },
  {
   "cell_type": "code",
   "execution_count": 8,
   "metadata": {},
   "outputs": [],
   "source": [
    "#creating new df with single record for each user\n",
    "feature_df=df.stat.crosstab(\"user_id\", \"music category\")"
   ]
  },
  {
   "cell_type": "code",
   "execution_count": 9,
   "metadata": {},
   "outputs": [
    {
     "name": "stdout",
     "output_type": "stream",
     "text": [
      "root\n",
      " |-- user_id_music category: string (nullable = true)\n",
      " |-- Alternative Music: long (nullable = true)\n",
      " |-- Asian Pop: long (nullable = true)\n",
      " |-- Blues: long (nullable = true)\n",
      " |-- Classical Music: long (nullable = true)\n",
      " |-- Country Music: long (nullable = true)\n",
      " |-- Dance Music: long (nullable = true)\n",
      " |-- Easy Listening: long (nullable = true)\n",
      " |-- Electronic Music: long (nullable = true)\n",
      " |-- Hindi Music: long (nullable = true)\n",
      " |-- Hip Hop: long (nullable = true)\n",
      " |-- Indie Pop: long (nullable = true)\n",
      " |-- Jazz: long (nullable = true)\n",
      " |-- Latin Music: long (nullable = true)\n",
      " |-- Motivational: long (nullable = true)\n",
      " |-- New Age: long (nullable = true)\n",
      " |-- Opera: long (nullable = true)\n",
      " |-- Popular: long (nullable = true)\n",
      " |-- Rap: long (nullable = true)\n",
      " |-- Reggae: long (nullable = true)\n",
      " |-- Rock: long (nullable = true)\n",
      " |-- Soulful: long (nullable = true)\n",
      "\n"
     ]
    }
   ],
   "source": [
    "feature_df.printSchema()"
   ]
  },
  {
   "cell_type": "code",
   "execution_count": 10,
   "metadata": {},
   "outputs": [
    {
     "name": "stdout",
     "output_type": "stream",
     "text": [
      "+----------------------------------------------------------------+-----------------+---------+-----+---------------+-------------+-----------+--------------+----------------+-----------+-------+---------+----+-----------+------------+-------+-----+-------+---+------+----+-------+\n",
      "|user_id_music category                                          |Alternative Music|Asian Pop|Blues|Classical Music|Country Music|Dance Music|Easy Listening|Electronic Music|Hindi Music|Hip Hop|Indie Pop|Jazz|Latin Music|Motivational|New Age|Opera|Popular|Rap|Reggae|Rock|Soulful|\n",
      "+----------------------------------------------------------------+-----------------+---------+-----+---------------+-------------+-----------+--------------+----------------+-----------+-------+---------+----+-----------+------------+-------+-----+-------+---+------+----+-------+\n",
      "|ca3c4285512798abe7d81fa2d0588549211be9516d9b2050e5564f8e912312c7|65               |0        |7    |8              |7            |12         |7             |2               |12         |7      |0        |15  |0          |2           |0      |3    |0      |3  |0     |1   |0      |\n",
      "|b457919ae168ac12ec7e0303ae0d5fe292b63c9d04eb54e039942e7f46552ec4|80               |0        |65   |135            |16           |55         |7             |34              |0          |12     |6        |7   |3          |2           |1      |2    |0      |5  |0     |0   |0      |\n",
      "|a87bb168ba6e5a8da5eccce18c95565d843b40c1833b0f6c3089eb083f0fe3d3|0                |0        |11   |0              |9            |3          |0             |3               |3          |0      |5        |0   |0          |1           |0      |0    |4      |0  |0     |0   |5      |\n",
      "+----------------------------------------------------------------+-----------------+---------+-----+---------------+-------------+-----------+--------------+----------------+-----------+-------+---------+----+-----------+------------+-------+-----+-------+---+------+----+-------+\n",
      "only showing top 3 rows\n",
      "\n"
     ]
    }
   ],
   "source": [
    "feature_df.show(3,False)"
   ]
  },
  {
   "cell_type": "code",
   "execution_count": 11,
   "metadata": {},
   "outputs": [],
   "source": [
    "from pyspark.ml.linalg import Vectors\n",
    "from pyspark.ml.feature import VectorAssembler"
   ]
  },
  {
   "cell_type": "code",
   "execution_count": 12,
   "metadata": {},
   "outputs": [
    {
     "name": "stdout",
     "output_type": "stream",
     "text": [
      "['user_id_music category', 'Alternative Music', 'Asian Pop', 'Blues', 'Classical Music', 'Country Music', 'Dance Music', 'Easy Listening', 'Electronic Music', 'Hindi Music', 'Hip Hop', 'Indie Pop', 'Jazz', 'Latin Music', 'Motivational', 'New Age', 'Opera', 'Popular', 'Rap', 'Reggae', 'Rock', 'Soulful']\n"
     ]
    }
   ],
   "source": [
    "print(feature_df.columns)"
   ]
  },
  {
   "cell_type": "code",
   "execution_count": 13,
   "metadata": {},
   "outputs": [],
   "source": [
    "feat_cols=[col for col in feature_df.columns if col != 'user_id_music category']"
   ]
  },
  {
   "cell_type": "code",
   "execution_count": 14,
   "metadata": {},
   "outputs": [
    {
     "name": "stdout",
     "output_type": "stream",
     "text": [
      "['Alternative Music', 'Asian Pop', 'Blues', 'Classical Music', 'Country Music', 'Dance Music', 'Easy Listening', 'Electronic Music', 'Hindi Music', 'Hip Hop', 'Indie Pop', 'Jazz', 'Latin Music', 'Motivational', 'New Age', 'Opera', 'Popular', 'Rap', 'Reggae', 'Rock', 'Soulful']\n"
     ]
    }
   ],
   "source": [
    "print(feat_cols)"
   ]
  },
  {
   "cell_type": "code",
   "execution_count": 15,
   "metadata": {},
   "outputs": [],
   "source": [
    "vec_assembler = VectorAssembler(inputCols = feat_cols, outputCol='features')\n",
    "final_data = vec_assembler.transform(feature_df)"
   ]
  },
  {
   "cell_type": "code",
   "execution_count": 16,
   "metadata": {},
   "outputs": [
    {
     "name": "stdout",
     "output_type": "stream",
     "text": [
      "root\n",
      " |-- user_id_music category: string (nullable = true)\n",
      " |-- Alternative Music: long (nullable = true)\n",
      " |-- Asian Pop: long (nullable = true)\n",
      " |-- Blues: long (nullable = true)\n",
      " |-- Classical Music: long (nullable = true)\n",
      " |-- Country Music: long (nullable = true)\n",
      " |-- Dance Music: long (nullable = true)\n",
      " |-- Easy Listening: long (nullable = true)\n",
      " |-- Electronic Music: long (nullable = true)\n",
      " |-- Hindi Music: long (nullable = true)\n",
      " |-- Hip Hop: long (nullable = true)\n",
      " |-- Indie Pop: long (nullable = true)\n",
      " |-- Jazz: long (nullable = true)\n",
      " |-- Latin Music: long (nullable = true)\n",
      " |-- Motivational: long (nullable = true)\n",
      " |-- New Age: long (nullable = true)\n",
      " |-- Opera: long (nullable = true)\n",
      " |-- Popular: long (nullable = true)\n",
      " |-- Rap: long (nullable = true)\n",
      " |-- Reggae: long (nullable = true)\n",
      " |-- Rock: long (nullable = true)\n",
      " |-- Soulful: long (nullable = true)\n",
      " |-- features: vector (nullable = true)\n",
      "\n",
      "None\n"
     ]
    }
   ],
   "source": [
    "print(final_data.printSchema())"
   ]
  },
  {
   "cell_type": "code",
   "execution_count": 17,
   "metadata": {},
   "outputs": [],
   "source": [
    "from pyspark.ml.feature import StandardScaler"
   ]
  },
  {
   "cell_type": "code",
   "execution_count": 18,
   "metadata": {},
   "outputs": [],
   "source": [
    "#scaling the features\n",
    "scaler = StandardScaler(inputCol=\"features\", outputCol=\"scaledFeatures\", withStd=True, withMean=False)"
   ]
  },
  {
   "cell_type": "code",
   "execution_count": 19,
   "metadata": {},
   "outputs": [],
   "source": [
    "# Compute summary statistics by fitting the StandardScaler\n",
    "scalerModel = scaler.fit(final_data)"
   ]
  },
  {
   "cell_type": "code",
   "execution_count": 20,
   "metadata": {},
   "outputs": [],
   "source": [
    "# Normalize each feature to have unit standard deviation.\n",
    "cluster_final_data = scalerModel.transform(final_data)"
   ]
  },
  {
   "cell_type": "code",
   "execution_count": 21,
   "metadata": {},
   "outputs": [
    {
     "data": {
      "text/plain": [
       "['user_id_music category',\n",
       " 'Alternative Music',\n",
       " 'Asian Pop',\n",
       " 'Blues',\n",
       " 'Classical Music',\n",
       " 'Country Music',\n",
       " 'Dance Music',\n",
       " 'Easy Listening',\n",
       " 'Electronic Music',\n",
       " 'Hindi Music',\n",
       " 'Hip Hop',\n",
       " 'Indie Pop',\n",
       " 'Jazz',\n",
       " 'Latin Music',\n",
       " 'Motivational',\n",
       " 'New Age',\n",
       " 'Opera',\n",
       " 'Popular',\n",
       " 'Rap',\n",
       " 'Reggae',\n",
       " 'Rock',\n",
       " 'Soulful',\n",
       " 'features',\n",
       " 'scaledFeatures']"
      ]
     },
     "execution_count": 21,
     "metadata": {},
     "output_type": "execute_result"
    }
   ],
   "source": [
    "cluster_final_data.columns"
   ]
  },
  {
   "cell_type": "code",
   "execution_count": 22,
   "metadata": {},
   "outputs": [
    {
     "name": "stdout",
     "output_type": "stream",
     "text": [
      "With K=2\n",
      "Within Set Sum of Squared Errors = 15470.739574375584\n",
      "------------------------------------------------------------\n",
      "With K=3\n",
      "Within Set Sum of Squared Errors = 12387.69023390554\n",
      "------------------------------------------------------------\n",
      "With K=4\n",
      "Within Set Sum of Squared Errors = 11082.159719722375\n",
      "------------------------------------------------------------\n",
      "With K=5\n",
      "Within Set Sum of Squared Errors = 10702.962781129441\n",
      "------------------------------------------------------------\n",
      "With K=6\n",
      "Within Set Sum of Squared Errors = 9896.745816298979\n",
      "------------------------------------------------------------\n",
      "With K=7\n",
      "Within Set Sum of Squared Errors = 9388.646948253392\n",
      "------------------------------------------------------------\n",
      "With K=8\n",
      "Within Set Sum of Squared Errors = 8618.303474079612\n",
      "------------------------------------------------------------\n",
      "With K=9\n",
      "Within Set Sum of Squared Errors = 8251.596219917868\n",
      "------------------------------------------------------------\n"
     ]
    }
   ],
   "source": [
    "errors=[]\n",
    "\n",
    "for k in range(2,10):\n",
    "    kmeans = KMeans(featuresCol='scaledFeatures',k=k)\n",
    "    model = kmeans.fit(cluster_final_data)\n",
    "    wssse = model.computeCost(cluster_final_data)\n",
    "    errors.append(wssse)\n",
    "    print(\"With K={}\".format(k))\n",
    "    print(\"Within Set Sum of Squared Errors = \" + str(wssse))\n",
    "    print('--'*30)"
   ]
  },
  {
   "cell_type": "code",
   "execution_count": 23,
   "metadata": {},
   "outputs": [
    {
     "data": {
      "image/png": "[encoded data removed]",
      "text/plain": [
       "<matplotlib.figure.Figure at 0x7f958393e518>"
      ]
     },
     "metadata": {},
     "output_type": "display_data"
    }
   ],
   "source": [
    "cluster_number = range(2,10)\n",
    "plt.scatter(cluster_number,errors)\n",
    "plt.xlabel('clusters')\n",
    "plt.ylabel('WSSE')\n",
    "plt.show()"
   ]
  },
  {
   "cell_type": "code",
   "execution_count": 24,
   "metadata": {},
   "outputs": [],
   "source": [
    "#Selecting k =6 for kmeans clustering\n",
    "kmeans6 = KMeans(featuresCol='scaledFeatures',k=6)"
   ]
  },
  {
   "cell_type": "code",
   "execution_count": 25,
   "metadata": {},
   "outputs": [],
   "source": [
    "#Fitting the model on data\n",
    "model_k6 = kmeans6.fit(cluster_final_data)"
   ]
  },
  {
   "cell_type": "code",
   "execution_count": 26,
   "metadata": {},
   "outputs": [
    {
     "name": "stdout",
     "output_type": "stream",
     "text": [
      "+----------+-----+\n",
      "|prediction|count|\n",
      "+----------+-----+\n",
      "|         1|    6|\n",
      "|         3|   14|\n",
      "|         5|    1|\n",
      "|         4|    3|\n",
      "|         2|    2|\n",
      "|         0|  749|\n",
      "+----------+-----+\n",
      "\n"
     ]
    }
   ],
   "source": [
    "#Number of customers in each of the clusters\n",
    "model_k6.transform(cluster_final_data).groupBy('prediction').count().show()"
   ]
  },
  {
   "cell_type": "code",
   "execution_count": 27,
   "metadata": {},
   "outputs": [
    {
     "name": "stdout",
     "output_type": "stream",
     "text": [
      "+----------------------+-----------------+---------+-----+---------------+-------------+-----------+--------------+----------------+-----------+-------+---------+----+-----------+------------+-------+-----+-------+---+------+----+-------+--------------------+--------------------+----------+\n",
      "|user_id_music category|Alternative Music|Asian Pop|Blues|Classical Music|Country Music|Dance Music|Easy Listening|Electronic Music|Hindi Music|Hip Hop|Indie Pop|Jazz|Latin Music|Motivational|New Age|Opera|Popular|Rap|Reggae|Rock|Soulful|            features|      scaledFeatures|prediction|\n",
      "+----------------------+-----------------+---------+-----+---------------+-------------+-----------+--------------+----------------+-----------+-------+---------+----+-----------+------------+-------+-----+-------+---+------+----+-------+--------------------+--------------------+----------+\n",
      "|  ca3c4285512798abe...|               65|        0|    7|              8|            7|         12|             7|               2|         12|      7|        0|  15|          0|           2|      0|    3|      0|  3|     0|   1|      0|[65.0,0.0,7.0,8.0...|[0.23836018560172...|         0|\n",
      "|  b457919ae168ac12e...|               80|        0|   65|            135|           16|         55|             7|              34|          0|     12|        6|   7|          3|           2|      1|    2|      0|  5|     0|   0|      0|[80.0,0.0,65.0,13...|[0.29336638227904...|         0|\n",
      "|  a87bb168ba6e5a8da...|                0|        0|   11|              0|            9|          3|             0|               3|          3|      0|        5|   0|          0|           1|      0|    0|      4|  0|     0|   0|      5|(21,[2,4,5,7,8,10...|(21,[2,4,5,7,8,10...|         0|\n",
      "|  cf60c9b1a0444261c...|              119|      268|  340|             63|           85|         48|           498|              82|          0|     34|        1|  14|          0|          14|      3|   57|      0| 67|     3|   6|      1|[119.0,268.0,340....|[0.43638249364008...|         0|\n",
      "|  8ab21c1b361d5c4aa...|               23|        7|   81|             22|           30|        197|            11|               8|          0|      7|        6|   0|          0|          12|      7|    2|      9|  7|     0|   1|      0|[23.0,7.0,81.0,22...|[0.08434283490522...|         0|\n",
      "|  34e22754ffec4a0d4...|              192|        1|  158|             40|           83|        110|           126|              39|          1|     33|       68|   1|          0|           4|      2|    0|     11| 13|     0|  28|      7|[192.0,1.0,158.0,...|[0.70407931746971...|         0|\n",
      "|  ad3ea6999df3120cc...|                5|        0|    1|              0|            9|        254|            15|               1|          2|      0|        4|   0|          1|           0|      0|    4|      0|  1|     0|   0|      0|(21,[0,2,4,5,6,7,...|(21,[0,2,4,5,6,7,...|         0|\n",
      "|  3d2ea50eeeb98d4a7...|               31|        2|   17|             22|           21|         66|            90|               8|          2|     26|       42|  10|          0|           4|      6|   12|      0| 14|     0|   1|      9|[31.0,2.0,17.0,22...|[0.11367947313313...|         0|\n",
      "|  334533d21eeed37dd...|                7|        0|    5|              0|            4|          4|             1|               0|          2|      4|        3|   0|          0|           0|      0|    3|      2|  0|     0|   0|      2|(21,[0,2,4,5,6,8,...|(21,[0,2,4,5,6,8,...|         0|\n",
      "|  bad9c123790cfd0b1...|               19|        3|    7|             19|           13|         33|             7|               4|         49|     20|        5|   0|          0|           0|     99|    3|      0| 15|     0|   0|      0|[19.0,3.0,7.0,19....|[0.06967451579127...|         0|\n",
      "+----------------------+-----------------+---------+-----+---------------+-------------+-----------+--------------+----------------+-----------+-------+---------+----+-----------+------------+-------+-----+-------+---+------+----+-------+--------------------+--------------------+----------+\n",
      "only showing top 10 rows\n",
      "\n"
     ]
    }
   ],
   "source": [
    "model_k6.transform(cluster_final_data).show(10)"
   ]
  },
  {
   "cell_type": "code",
   "execution_count": 28,
   "metadata": {},
   "outputs": [],
   "source": [
    "cluser_prediction=model_k6.transform(cluster_final_data)"
   ]
  },
  {
   "cell_type": "code",
   "execution_count": 30,
   "metadata": {},
   "outputs": [
    {
     "name": "stdout",
     "output_type": "stream",
     "text": [
      "root\n",
      " |-- user_id_music category: string (nullable = true)\n",
      " |-- Alternative Music: long (nullable = true)\n",
      " |-- Asian Pop: long (nullable = true)\n",
      " |-- Blues: long (nullable = true)\n",
      " |-- Classical Music: long (nullable = true)\n",
      " |-- Country Music: long (nullable = true)\n",
      " |-- Dance Music: long (nullable = true)\n",
      " |-- Easy Listening: long (nullable = true)\n",
      " |-- Electronic Music: long (nullable = true)\n",
      " |-- Hindi Music: long (nullable = true)\n",
      " |-- Hip Hop: long (nullable = true)\n",
      " |-- Indie Pop: long (nullable = true)\n",
      " |-- Jazz: long (nullable = true)\n",
      " |-- Latin Music: long (nullable = true)\n",
      " |-- Motivational: long (nullable = true)\n",
      " |-- New Age: long (nullable = true)\n",
      " |-- Opera: long (nullable = true)\n",
      " |-- Popular: long (nullable = true)\n",
      " |-- Rap: long (nullable = true)\n",
      " |-- Reggae: long (nullable = true)\n",
      " |-- Rock: long (nullable = true)\n",
      " |-- Soulful: long (nullable = true)\n",
      " |-- features: vector (nullable = true)\n",
      " |-- scaledFeatures: vector (nullable = true)\n",
      " |-- prediction: integer (nullable = false)\n",
      "\n"
     ]
    }
   ],
   "source": [
    "cluser_prediction.printSchema()"
   ]
  },
  {
   "cell_type": "code",
   "execution_count": 31,
   "metadata": {},
   "outputs": [
    {
     "name": "stdout",
     "output_type": "stream",
     "text": [
      "+----------------------------------------------------------------+----------------------------------------------------------------+----------+\n",
      "|user_id_music category                                          |pca_features                                                    |prediction|\n",
      "+----------------------------------------------------------------+----------------------------------------------------------------+----------+\n",
      "|ca3c4285512798abe7d81fa2d0588549211be9516d9b2050e5564f8e912312c7|[-0.2250735026516284,0.1508289363663226,-0.13922132997808534]   |0         |\n",
      "|b457919ae168ac12ec7e0303ae0d5fe292b63c9d04eb54e039942e7f46552ec4|[-0.5273003162834193,0.10206886950980007,-0.014971360310926437] |0         |\n",
      "|a87bb168ba6e5a8da5eccce18c95565d843b40c1833b0f6c3089eb083f0fe3d3|[-0.23968261020295822,0.2801153618243124,-0.1738219443638187]   |0         |\n",
      "|cf60c9b1a0444261c3a4687677f5336686b96756df5e33c11f6016f16fb38372|[-3.5120515919930178,0.32729433189573715,1.1017302617933256]    |0         |\n",
      "|8ab21c1b361d5c4aa1ed01893305febf1c6659bd342217eece1225d789ba57da|[-0.6796385576703683,0.39608053546483746,0.11474085857053855]   |0         |\n",
      "|34e22754ffec4a0d434edfa0f3b10c0e1ab14c632cee37514076d211cf1e7017|[-2.0964050329364166,0.9121320035474169,0.9912613846332612]     |0         |\n",
      "|ad3ea6999df3120ccb557d34cf75e17dfdd3febe445e9e1bc36514642fcd3bdb|[-0.2944449488892162,0.383978047265129,0.07758752095209272]     |0         |\n",
      "|3d2ea50eeeb98d4a79259ee057955696ec9dc46e1b72e8d8eff099feb3362e1f|[-0.9356027216181408,0.595824057721615,-0.17524154004372516]    |0         |\n",
      "|334533d21eeed37dd2b686022857f9f42eef9fa6192a8653040af844be8d15ef|[-0.13886158277802202,0.15784222493276218,-0.11260624144367197] |0         |\n",
      "|bad9c123790cfd0b1106190de5623afbb70de0e71f5d48dc05ee6d743a2f50a8|[-0.5824585609741292,0.6698195803354224,-0.8684054960184615]    |0         |\n",
      "|dd8b41323bbef6d4093879c63966b025d9dd3dbdab1b372ec3c09ee9e40e277c|[-0.196130385293706,0.12812984441339165,-0.09549024406090195]   |0         |\n",
      "|ac40c16b3c6248cebdfb8cb9e2dee4575862ef1223ece1b393b45b6b2561e8fc|[-0.28548897643969706,0.1507484298534756,-0.25560359089598994]  |0         |\n",
      "|57c20a25da427c79b41690be1b895110bbae9fb583a32a2d27c310e9caa1a395|[-0.11298754622944404,-0.02683169465747653,0.012421222276786992]|0         |\n",
      "|b5773ac4aa0d079266ecc3f02d0a16a0f7fd0789b7c0553782dd0588d57298b4|[-0.4918021450678279,0.3841542970784488,-0.10281962873038579]   |0         |\n",
      "|793c0773daa478bf340a4c6f63fad3beedef69aaa0a8f503995450c8a75cd2bd|[-0.05930380568903517,0.03756596949668735,0.08260181325447052]  |0         |\n",
      "|4c52a409ecbf4c78bf6aa73611615d7c68090162250aeed3118d57177e291e63|[-1.4580702292222283,1.8999456814099018,-3.7715011579509974]    |0         |\n",
      "|fadebf953475576be81797433f0d28278858f93eee0cefcc95b5b03dd787c327|[-0.7083739895738098,0.21507912946609467,0.35753821912208134]   |0         |\n",
      "|86f98ea95c8b3333b947bf9a1a305150633df37e6aac807cddcbbe3463bfd53d|[-2.4658708965532194,0.6606526791365808,0.32230865842212864]    |0         |\n",
      "|1a9da82f18b16577b872a71cefdeae63a7725eac5547820182ba82d8845b02ee|[-4.31655963988883,2.1119157004751234,1.5493486921112498]       |0         |\n",
      "|9e528e07d7deddba5dcafd78c60059c7a91a7233350b2dcad109ae3b413d6aaf|[-0.8673164731150801,0.025748509689555762,0.22457984151934027]  |0         |\n",
      "+----------------------------------------------------------------+----------------------------------------------------------------+----------+\n",
      "only showing top 20 rows\n",
      "\n"
     ]
    }
   ],
   "source": [
    "### PCA for visualization \n",
    "\n",
    "from pyspark.ml.feature import PCA\n",
    "from pyspark.ml.linalg import Vectors\n",
    "\n",
    "\n",
    "\n",
    "pca = PCA(k=3, inputCol=\"scaledFeatures\", outputCol=\"pca_features\")\n",
    "pca_model = pca.fit(cluser_prediction)\n",
    "\n",
    "result = pca_model.transform(cluser_prediction).select('user_id_music category',\"pca_features\",'prediction')\n",
    "result.show(truncate=False)"
   ]
  },
  {
   "cell_type": "code",
   "execution_count": 33,
   "metadata": {},
   "outputs": [
    {
     "data": {
      "text/html": [
       "<div>\n",
       "<table border=\"1\" class=\"dataframe\">\n",
       "  <thead>\n",
       "    <tr style=\"text-align: right;\">\n",
       "      <th></th>\n",
       "      <th>pca_features</th>\n",
       "      <th>prediction</th>\n",
       "    </tr>\n",
       "    <tr>\n",
       "      <th>user_id_music category</th>\n",
       "      <th></th>\n",
       "      <th></th>\n",
       "    </tr>\n",
       "  </thead>\n",
       "  <tbody>\n",
       "    <tr>\n",
       "      <th>ca3c4285512798abe7d81fa2d0588549211be9516d9b2050e5564f8e912312c7</th>\n",
       "      <td>[-0.225073502652, 0.150828936366, -0.139221329...</td>\n",
       "      <td>0</td>\n",
       "    </tr>\n",
       "    <tr>\n",
       "      <th>b457919ae168ac12ec7e0303ae0d5fe292b63c9d04eb54e039942e7f46552ec4</th>\n",
       "      <td>[-0.527300316283, 0.10206886951, -0.0149713603...</td>\n",
       "      <td>0</td>\n",
       "    </tr>\n",
       "    <tr>\n",
       "      <th>a87bb168ba6e5a8da5eccce18c95565d843b40c1833b0f6c3089eb083f0fe3d3</th>\n",
       "      <td>[-0.239682610203, 0.280115361824, -0.173821944...</td>\n",
       "      <td>0</td>\n",
       "    </tr>\n",
       "    <tr>\n",
       "      <th>cf60c9b1a0444261c3a4687677f5336686b96756df5e33c11f6016f16fb38372</th>\n",
       "      <td>[-3.51205159199, 0.327294331896, 1.10173026179]</td>\n",
       "      <td>0</td>\n",
       "    </tr>\n",
       "    <tr>\n",
       "      <th>8ab21c1b361d5c4aa1ed01893305febf1c6659bd342217eece1225d789ba57da</th>\n",
       "      <td>[-0.67963855767, 0.396080535465, 0.114740858571]</td>\n",
       "      <td>0</td>\n",
       "    </tr>\n",
       "    <tr>\n",
       "      <th>34e22754ffec4a0d434edfa0f3b10c0e1ab14c632cee37514076d211cf1e7017</th>\n",
       "      <td>[-2.09640503294, 0.912132003547, 0.991261384633]</td>\n",
       "      <td>0</td>\n",
       "    </tr>\n",
       "    <tr>\n",
       "      <th>ad3ea6999df3120ccb557d34cf75e17dfdd3febe445e9e1bc36514642fcd3bdb</th>\n",
       "      <td>[-0.294444948889, 0.383978047265, 0.0775875209...</td>\n",
       "      <td>0</td>\n",
       "    </tr>\n",
       "    <tr>\n",
       "      <th>3d2ea50eeeb98d4a79259ee057955696ec9dc46e1b72e8d8eff099feb3362e1f</th>\n",
       "      <td>[-0.935602721618, 0.595824057722, -0.175241540...</td>\n",
       "      <td>0</td>\n",
       "    </tr>\n",
       "    <tr>\n",
       "      <th>334533d21eeed37dd2b686022857f9f42eef9fa6192a8653040af844be8d15ef</th>\n",
       "      <td>[-0.138861582778, 0.157842224933, -0.112606241...</td>\n",
       "      <td>0</td>\n",
       "    </tr>\n",
       "    <tr>\n",
       "      <th>bad9c123790cfd0b1106190de5623afbb70de0e71f5d48dc05ee6d743a2f50a8</th>\n",
       "      <td>[-0.582458560974, 0.669819580335, -0.868405496...</td>\n",
       "      <td>0</td>\n",
       "    </tr>\n",
       "  </tbody>\n",
       "</table>\n",
       "</div>"
      ],
      "text/plain": [
       "                                                                                         pca_features  \\\n",
       "user_id_music category                                                                                  \n",
       "ca3c4285512798abe7d81fa2d0588549211be9516d9b205...  [-0.225073502652, 0.150828936366, -0.139221329...   \n",
       "b457919ae168ac12ec7e0303ae0d5fe292b63c9d04eb54e...  [-0.527300316283, 0.10206886951, -0.0149713603...   \n",
       "a87bb168ba6e5a8da5eccce18c95565d843b40c1833b0f6...  [-0.239682610203, 0.280115361824, -0.173821944...   \n",
       "cf60c9b1a0444261c3a4687677f5336686b96756df5e33c...    [-3.51205159199, 0.327294331896, 1.10173026179]   \n",
       "8ab21c1b361d5c4aa1ed01893305febf1c6659bd342217e...   [-0.67963855767, 0.396080535465, 0.114740858571]   \n",
       "34e22754ffec4a0d434edfa0f3b10c0e1ab14c632cee375...   [-2.09640503294, 0.912132003547, 0.991261384633]   \n",
       "ad3ea6999df3120ccb557d34cf75e17dfdd3febe445e9e1...  [-0.294444948889, 0.383978047265, 0.0775875209...   \n",
       "3d2ea50eeeb98d4a79259ee057955696ec9dc46e1b72e8d...  [-0.935602721618, 0.595824057722, -0.175241540...   \n",
       "334533d21eeed37dd2b686022857f9f42eef9fa6192a865...  [-0.138861582778, 0.157842224933, -0.112606241...   \n",
       "bad9c123790cfd0b1106190de5623afbb70de0e71f5d48d...  [-0.582458560974, 0.669819580335, -0.868405496...   \n",
       "\n",
       "                                                    prediction  \n",
       "user_id_music category                                          \n",
       "ca3c4285512798abe7d81fa2d0588549211be9516d9b205...           0  \n",
       "b457919ae168ac12ec7e0303ae0d5fe292b63c9d04eb54e...           0  \n",
       "a87bb168ba6e5a8da5eccce18c95565d843b40c1833b0f6...           0  \n",
       "cf60c9b1a0444261c3a4687677f5336686b96756df5e33c...           0  \n",
       "8ab21c1b361d5c4aa1ed01893305febf1c6659bd342217e...           0  \n",
       "34e22754ffec4a0d434edfa0f3b10c0e1ab14c632cee375...           0  \n",
       "ad3ea6999df3120ccb557d34cf75e17dfdd3febe445e9e1...           0  \n",
       "3d2ea50eeeb98d4a79259ee057955696ec9dc46e1b72e8d...           0  \n",
       "334533d21eeed37dd2b686022857f9f42eef9fa6192a865...           0  \n",
       "bad9c123790cfd0b1106190de5623afbb70de0e71f5d48d...           0  "
      ]
     },
     "execution_count": 33,
     "metadata": {},
     "output_type": "execute_result"
    }
   ],
   "source": [
    "clusters = result.toPandas().set_index('user_id_music category')\n",
    "clusters.head(10)"
   ]
  },
  {
   "cell_type": "code",
   "execution_count": 34,
   "metadata": {},
   "outputs": [],
   "source": [
    "clusters[['x','y','z']]=pd.DataFrame(clusters.pca_features.values.tolist(), index= clusters.index)"
   ]
  },
  {
   "cell_type": "code",
   "execution_count": 35,
   "metadata": {},
   "outputs": [],
   "source": [
    "del clusters['pca_features']"
   ]
  },
  {
   "cell_type": "code",
   "execution_count": 36,
   "metadata": {},
   "outputs": [
    {
     "data": {
      "text/html": [
       "<div>\n",
       "<table border=\"1\" class=\"dataframe\">\n",
       "  <thead>\n",
       "    <tr style=\"text-align: right;\">\n",
       "      <th></th>\n",
       "      <th>prediction</th>\n",
       "      <th>x</th>\n",
       "      <th>y</th>\n",
       "      <th>z</th>\n",
       "    </tr>\n",
       "    <tr>\n",
       "      <th>user_id_music category</th>\n",
       "      <th></th>\n",
       "      <th></th>\n",
       "      <th></th>\n",
       "      <th></th>\n",
       "    </tr>\n",
       "  </thead>\n",
       "  <tbody>\n",
       "    <tr>\n",
       "      <th>ca3c4285512798abe7d81fa2d0588549211be9516d9b2050e5564f8e912312c7</th>\n",
       "      <td>0</td>\n",
       "      <td>-0.225074</td>\n",
       "      <td>0.150829</td>\n",
       "      <td>-0.139221</td>\n",
       "    </tr>\n",
       "    <tr>\n",
       "      <th>b457919ae168ac12ec7e0303ae0d5fe292b63c9d04eb54e039942e7f46552ec4</th>\n",
       "      <td>0</td>\n",
       "      <td>-0.527300</td>\n",
       "      <td>0.102069</td>\n",
       "      <td>-0.014971</td>\n",
       "    </tr>\n",
       "    <tr>\n",
       "      <th>a87bb168ba6e5a8da5eccce18c95565d843b40c1833b0f6c3089eb083f0fe3d3</th>\n",
       "      <td>0</td>\n",
       "      <td>-0.239683</td>\n",
       "      <td>0.280115</td>\n",
       "      <td>-0.173822</td>\n",
       "    </tr>\n",
       "    <tr>\n",
       "      <th>cf60c9b1a0444261c3a4687677f5336686b96756df5e33c11f6016f16fb38372</th>\n",
       "      <td>0</td>\n",
       "      <td>-3.512052</td>\n",
       "      <td>0.327294</td>\n",
       "      <td>1.101730</td>\n",
       "    </tr>\n",
       "    <tr>\n",
       "      <th>8ab21c1b361d5c4aa1ed01893305febf1c6659bd342217eece1225d789ba57da</th>\n",
       "      <td>0</td>\n",
       "      <td>-0.679639</td>\n",
       "      <td>0.396081</td>\n",
       "      <td>0.114741</td>\n",
       "    </tr>\n",
       "    <tr>\n",
       "      <th>34e22754ffec4a0d434edfa0f3b10c0e1ab14c632cee37514076d211cf1e7017</th>\n",
       "      <td>0</td>\n",
       "      <td>-2.096405</td>\n",
       "      <td>0.912132</td>\n",
       "      <td>0.991261</td>\n",
       "    </tr>\n",
       "    <tr>\n",
       "      <th>ad3ea6999df3120ccb557d34cf75e17dfdd3febe445e9e1bc36514642fcd3bdb</th>\n",
       "      <td>0</td>\n",
       "      <td>-0.294445</td>\n",
       "      <td>0.383978</td>\n",
       "      <td>0.077588</td>\n",
       "    </tr>\n",
       "    <tr>\n",
       "      <th>3d2ea50eeeb98d4a79259ee057955696ec9dc46e1b72e8d8eff099feb3362e1f</th>\n",
       "      <td>0</td>\n",
       "      <td>-0.935603</td>\n",
       "      <td>0.595824</td>\n",
       "      <td>-0.175242</td>\n",
       "    </tr>\n",
       "    <tr>\n",
       "      <th>334533d21eeed37dd2b686022857f9f42eef9fa6192a8653040af844be8d15ef</th>\n",
       "      <td>0</td>\n",
       "      <td>-0.138862</td>\n",
       "      <td>0.157842</td>\n",
       "      <td>-0.112606</td>\n",
       "    </tr>\n",
       "    <tr>\n",
       "      <th>bad9c123790cfd0b1106190de5623afbb70de0e71f5d48dc05ee6d743a2f50a8</th>\n",
       "      <td>0</td>\n",
       "      <td>-0.582459</td>\n",
       "      <td>0.669820</td>\n",
       "      <td>-0.868405</td>\n",
       "    </tr>\n",
       "  </tbody>\n",
       "</table>\n",
       "</div>"
      ],
      "text/plain": [
       "                                                    prediction         x  \\\n",
       "user_id_music category                                                     \n",
       "ca3c4285512798abe7d81fa2d0588549211be9516d9b205...           0 -0.225074   \n",
       "b457919ae168ac12ec7e0303ae0d5fe292b63c9d04eb54e...           0 -0.527300   \n",
       "a87bb168ba6e5a8da5eccce18c95565d843b40c1833b0f6...           0 -0.239683   \n",
       "cf60c9b1a0444261c3a4687677f5336686b96756df5e33c...           0 -3.512052   \n",
       "8ab21c1b361d5c4aa1ed01893305febf1c6659bd342217e...           0 -0.679639   \n",
       "34e22754ffec4a0d434edfa0f3b10c0e1ab14c632cee375...           0 -2.096405   \n",
       "ad3ea6999df3120ccb557d34cf75e17dfdd3febe445e9e1...           0 -0.294445   \n",
       "3d2ea50eeeb98d4a79259ee057955696ec9dc46e1b72e8d...           0 -0.935603   \n",
       "334533d21eeed37dd2b686022857f9f42eef9fa6192a865...           0 -0.138862   \n",
       "bad9c123790cfd0b1106190de5623afbb70de0e71f5d48d...           0 -0.582459   \n",
       "\n",
       "                                                           y         z  \n",
       "user_id_music category                                                  \n",
       "ca3c4285512798abe7d81fa2d0588549211be9516d9b205...  0.150829 -0.139221  \n",
       "b457919ae168ac12ec7e0303ae0d5fe292b63c9d04eb54e...  0.102069 -0.014971  \n",
       "a87bb168ba6e5a8da5eccce18c95565d843b40c1833b0f6...  0.280115 -0.173822  \n",
       "cf60c9b1a0444261c3a4687677f5336686b96756df5e33c...  0.327294  1.101730  \n",
       "8ab21c1b361d5c4aa1ed01893305febf1c6659bd342217e...  0.396081  0.114741  \n",
       "34e22754ffec4a0d434edfa0f3b10c0e1ab14c632cee375...  0.912132  0.991261  \n",
       "ad3ea6999df3120ccb557d34cf75e17dfdd3febe445e9e1...  0.383978  0.077588  \n",
       "3d2ea50eeeb98d4a79259ee057955696ec9dc46e1b72e8d...  0.595824 -0.175242  \n",
       "334533d21eeed37dd2b686022857f9f42eef9fa6192a865...  0.157842 -0.112606  \n",
       "bad9c123790cfd0b1106190de5623afbb70de0e71f5d48d...  0.669820 -0.868405  "
      ]
     },
     "execution_count": 36,
     "metadata": {},
     "output_type": "execute_result"
    }
   ],
   "source": [
    "clusters.head(10)"
   ]
  },
  {
   "cell_type": "code",
   "execution_count": 38,
   "metadata": {},
   "outputs": [
    {
     "data": {
      "image/png": "[encoded data removed]",
      "text/plain": [
       "<matplotlib.figure.Figure at 0x7f95839a2748>"
      ]
     },
     "metadata": {},
     "output_type": "display_data"
    }
   ],
   "source": [
    "from mpl_toolkits.mplot3d import Axes3D\n",
    "cluster_vis = plt.figure(figsize=(10,10)).gca(projection='3d')\n",
    "cluster_vis.scatter(clusters.x, clusters.y, clusters.z, c=clusters.prediction)\n",
    "cluster_vis.set_xlabel('x')\n",
    "cluster_vis.set_ylabel('y')\n",
    "cluster_vis.set_zlabel('z')\n",
    "plt.show()"
   ]
  },
  {
   "cell_type": "code",
   "execution_count": null,
   "metadata": {
    "collapsed": true
   },
   "outputs": [],
   "source": []
  }
 ],
 "metadata": {
  "kernelspec": {
   "display_name": "Python 3",
   "language": "python",
   "name": "python3"
  },
  "language_info": {
   "codemirror_mode": {
    "name": "ipython",
    "version": 3
   },
   "file_extension": ".py",
   "mimetype": "text/x-python",
   "name": "python",
   "nbconvert_exporter": "python",
   "pygments_lexer": "ipython3",
   "version": "3.6.3"
  }
 },
 "nbformat": 4,
 "nbformat_minor": 2
}
