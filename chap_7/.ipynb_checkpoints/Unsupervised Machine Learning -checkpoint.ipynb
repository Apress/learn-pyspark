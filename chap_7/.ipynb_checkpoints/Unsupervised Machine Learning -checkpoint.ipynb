{
 "cells": [
  {
   "cell_type": "code",
   "execution_count": 1,
   "metadata": {},
   "outputs": [],
   "source": [
    "from pyspark.sql import SparkSession\n",
    "spark = SparkSession.builder.appName('clustering').getOrCreate()"
   ]
  },
  {
   "cell_type": "code",
   "execution_count": 2,
   "metadata": {},
   "outputs": [],
   "source": [
    "import pyspark\n",
    "import pandas as pd\n",
    "import numpy as np\n",
    "import matplotlib.pyplot as plt\n",
    "from pyspark.sql.functions import * \n",
    "from pyspark.sql.types import *\n",
    "from pyspark.sql.functions import rand, randn\n",
    "from pyspark.ml.clustering import KMeans\n",
    "from pyspark.sql.functions import sha2\n"
   ]
  },
  {
   "cell_type": "code",
   "execution_count": 273,
   "metadata": {},
   "outputs": [],
   "source": [
    "#read the dataset\n",
    "df=spark.read.csv('music_data.csv',inferSchema=True,header=True)"
   ]
  },
  {
   "cell_type": "code",
   "execution_count": 274,
   "metadata": {},
   "outputs": [
    {
     "data": {
      "text/plain": [
       "429023"
      ]
     },
     "execution_count": 274,
     "metadata": {},
     "output_type": "execute_result"
    }
   ],
   "source": [
    "df.count()"
   ]
  },
  {
   "cell_type": "code",
   "execution_count": 275,
   "metadata": {},
   "outputs": [
    {
     "name": "stdout",
     "output_type": "stream",
     "text": [
      "root\n",
      " |-- user_id: string (nullable = true)\n",
      " |-- music category: string (nullable = true)\n",
      "\n"
     ]
    }
   ],
   "source": [
    "df.printSchema()"
   ]
  },
  {
   "cell_type": "code",
   "execution_count": 276,
   "metadata": {},
   "outputs": [
    {
     "name": "stdout",
     "output_type": "stream",
     "text": [
      "+-----------------+-----+\n",
      "|music category   |count|\n",
      "+-----------------+-----+\n",
      "|Alternative Music|64227|\n",
      "|Blues            |54647|\n",
      "|Classical Music  |43117|\n",
      "|Country Music    |39891|\n",
      "|Dance Music      |35779|\n",
      "|Easy Listening   |34356|\n",
      "|Electronic Music |30985|\n",
      "|Rap              |29569|\n",
      "|Hip Hop          |16895|\n",
      "|Indie Pop        |16244|\n",
      "|Motivational     |10118|\n",
      "|Asian Pop        |8444 |\n",
      "|Jazz             |7685 |\n",
      "|Latin Music      |7302 |\n",
      "|New Age          |7053 |\n",
      "|Opera            |6188 |\n",
      "|Hindi Music      |5689 |\n",
      "|Popular          |4729 |\n",
      "|Soulful          |2403 |\n",
      "|Reggae           |1970 |\n",
      "|Rock             |1732 |\n",
      "+-----------------+-----+\n",
      "\n"
     ]
    }
   ],
   "source": [
    "df.groupBy('music category').count().orderBy('count',ascending=False).show(100,False)"
   ]
  },
  {
   "cell_type": "code",
   "execution_count": 277,
   "metadata": {},
   "outputs": [
    {
     "data": {
      "text/plain": [
       "775"
      ]
     },
     "execution_count": 277,
     "metadata": {},
     "output_type": "execute_result"
    }
   ],
   "source": [
    "df.select('user_id').distinct().count()"
   ]
  },
  {
   "cell_type": "code",
   "execution_count": 278,
   "metadata": {},
   "outputs": [],
   "source": [
    "#creating new df with single record for each user\n",
    "feature_df=df.stat.crosstab(\"user_id\", \"music category\")"
   ]
  },
  {
   "cell_type": "code",
   "execution_count": 279,
   "metadata": {},
   "outputs": [
    {
     "name": "stdout",
     "output_type": "stream",
     "text": [
      "root\n",
      " |-- user_id_music category: string (nullable = true)\n",
      " |-- Alternative Music: long (nullable = true)\n",
      " |-- Asian Pop: long (nullable = true)\n",
      " |-- Blues: long (nullable = true)\n",
      " |-- Classical Music: long (nullable = true)\n",
      " |-- Country Music: long (nullable = true)\n",
      " |-- Dance Music: long (nullable = true)\n",
      " |-- Easy Listening: long (nullable = true)\n",
      " |-- Electronic Music: long (nullable = true)\n",
      " |-- Hindi Music: long (nullable = true)\n",
      " |-- Hip Hop: long (nullable = true)\n",
      " |-- Indie Pop: long (nullable = true)\n",
      " |-- Jazz: long (nullable = true)\n",
      " |-- Latin Music: long (nullable = true)\n",
      " |-- Motivational: long (nullable = true)\n",
      " |-- New Age: long (nullable = true)\n",
      " |-- Opera: long (nullable = true)\n",
      " |-- Popular: long (nullable = true)\n",
      " |-- Rap: long (nullable = true)\n",
      " |-- Reggae: long (nullable = true)\n",
      " |-- Rock: long (nullable = true)\n",
      " |-- Soulful: long (nullable = true)\n",
      "\n"
     ]
    }
   ],
   "source": [
    "feature_df.printSchema()"
   ]
  },
  {
   "cell_type": "code",
   "execution_count": 281,
   "metadata": {},
   "outputs": [
    {
     "name": "stdout",
     "output_type": "stream",
     "text": [
      "+----------------------------------------------------------------+-----------------+---------+-----+---------------+-------------+-----------+--------------+----------------+-----------+-------+---------+----+-----------+------------+-------+-----+-------+---+------+----+-------+\n",
      "|user_id_music category                                          |Alternative Music|Asian Pop|Blues|Classical Music|Country Music|Dance Music|Easy Listening|Electronic Music|Hindi Music|Hip Hop|Indie Pop|Jazz|Latin Music|Motivational|New Age|Opera|Popular|Rap|Reggae|Rock|Soulful|\n",
      "+----------------------------------------------------------------+-----------------+---------+-----+---------------+-------------+-----------+--------------+----------------+-----------+-------+---------+----+-----------+------------+-------+-----+-------+---+------+----+-------+\n",
      "|ca3c4285512798abe7d81fa2d0588549211be9516d9b2050e5564f8e912312c7|65               |0        |7    |8              |7            |12         |7             |2               |12         |7      |0        |15  |0          |2           |0      |3    |0      |3  |0     |1   |0      |\n",
      "|b457919ae168ac12ec7e0303ae0d5fe292b63c9d04eb54e039942e7f46552ec4|80               |0        |65   |135            |16           |55         |7             |34              |0          |12     |6        |7   |3          |2           |1      |2    |0      |5  |0     |0   |0      |\n",
      "|a87bb168ba6e5a8da5eccce18c95565d843b40c1833b0f6c3089eb083f0fe3d3|0                |0        |11   |0              |9            |3          |0             |3               |3          |0      |5        |0   |0          |1           |0      |0    |4      |0  |0     |0   |5      |\n",
      "+----------------------------------------------------------------+-----------------+---------+-----+---------------+-------------+-----------+--------------+----------------+-----------+-------+---------+----+-----------+------------+-------+-----+-------+---+------+----+-------+\n",
      "only showing top 3 rows\n",
      "\n"
     ]
    }
   ],
   "source": [
    "feature_df.show(3,False)"
   ]
  },
  {
   "cell_type": "code",
   "execution_count": 282,
   "metadata": {},
   "outputs": [],
   "source": [
    "from pyspark.ml.linalg import Vectors\n",
    "from pyspark.ml.feature import VectorAssembler"
   ]
  },
  {
   "cell_type": "code",
   "execution_count": 284,
   "metadata": {},
   "outputs": [
    {
     "name": "stdout",
     "output_type": "stream",
     "text": [
      "['user_id_music category', 'Alternative Music', 'Asian Pop', 'Blues', 'Classical Music', 'Country Music', 'Dance Music', 'Easy Listening', 'Electronic Music', 'Hindi Music', 'Hip Hop', 'Indie Pop', 'Jazz', 'Latin Music', 'Motivational', 'New Age', 'Opera', 'Popular', 'Rap', 'Reggae', 'Rock', 'Soulful']\n"
     ]
    }
   ],
   "source": [
    "print(feature_df.columns)"
   ]
  },
  {
   "cell_type": "code",
   "execution_count": 240,
   "metadata": {},
   "outputs": [],
   "source": [
    "feat_cols=[col for col in feature_df.columns if col != 'user_id_music category']"
   ]
  },
  {
   "cell_type": "code",
   "execution_count": 285,
   "metadata": {},
   "outputs": [
    {
     "name": "stdout",
     "output_type": "stream",
     "text": [
      "['Alternative Music', 'Asian Pop', 'Blues', 'Classical Music', 'Country Music', 'Dance Music', 'Easy Listening', 'Electronic Music', 'Hindi Music', 'Hip Hop', 'Indie Pop', 'Jazz', 'Latin Music', 'Motivational', 'New Age', 'Opera', 'Popular', 'Rap', 'Reggae', 'Rock', 'Soulful']\n"
     ]
    }
   ],
   "source": [
    "print(feat_cols)"
   ]
  },
  {
   "cell_type": "code",
   "execution_count": 242,
   "metadata": {},
   "outputs": [],
   "source": [
    "vec_assembler = VectorAssembler(inputCols = feat_cols, outputCol='features')\n",
    "final_data = vec_assembler.transform(feature_df)"
   ]
  },
  {
   "cell_type": "code",
   "execution_count": 286,
   "metadata": {},
   "outputs": [
    {
     "name": "stdout",
     "output_type": "stream",
     "text": [
      "root\n",
      " |-- user_id_music category: string (nullable = true)\n",
      " |-- Alternative Music: long (nullable = true)\n",
      " |-- Asian Pop: long (nullable = true)\n",
      " |-- Blues: long (nullable = true)\n",
      " |-- Classical Music: long (nullable = true)\n",
      " |-- Country Music: long (nullable = true)\n",
      " |-- Dance Music: long (nullable = true)\n",
      " |-- Easy Listening: long (nullable = true)\n",
      " |-- Electronic Music: long (nullable = true)\n",
      " |-- Hindi Music: long (nullable = true)\n",
      " |-- Hip Hop: long (nullable = true)\n",
      " |-- Indie Pop: long (nullable = true)\n",
      " |-- Jazz: long (nullable = true)\n",
      " |-- Latin Music: long (nullable = true)\n",
      " |-- Motivational: long (nullable = true)\n",
      " |-- New Age: long (nullable = true)\n",
      " |-- Opera: long (nullable = true)\n",
      " |-- Popular: long (nullable = true)\n",
      " |-- Rap: long (nullable = true)\n",
      " |-- Reggae: long (nullable = true)\n",
      " |-- Rock: long (nullable = true)\n",
      " |-- Soulful: long (nullable = true)\n",
      " |-- features: vector (nullable = true)\n",
      "\n",
      "None\n"
     ]
    }
   ],
   "source": [
    "print(final_data.printSchema())"
   ]
  },
  {
   "cell_type": "code",
   "execution_count": 244,
   "metadata": {},
   "outputs": [],
   "source": [
    "from pyspark.ml.feature import StandardScaler"
   ]
  },
  {
   "cell_type": "code",
   "execution_count": 287,
   "metadata": {},
   "outputs": [],
   "source": [
    "#scaling the features\n",
    "scaler = StandardScaler(inputCol=\"features\", outputCol=\"scaledFeatures\", withStd=True, withMean=False)"
   ]
  },
  {
   "cell_type": "code",
   "execution_count": 288,
   "metadata": {},
   "outputs": [],
   "source": [
    "# Compute summary statistics by fitting the StandardScaler\n",
    "scalerModel = scaler.fit(final_data)"
   ]
  },
  {
   "cell_type": "code",
   "execution_count": 289,
   "metadata": {},
   "outputs": [],
   "source": [
    "# Normalize each feature to have unit standard deviation.\n",
    "cluster_final_data = scalerModel.transform(final_data)"
   ]
  },
  {
   "cell_type": "code",
   "execution_count": 290,
   "metadata": {},
   "outputs": [
    {
     "data": {
      "text/plain": [
       "['user_id_music category',\n",
       " 'Alternative Music',\n",
       " 'Asian Pop',\n",
       " 'Blues',\n",
       " 'Classical Music',\n",
       " 'Country Music',\n",
       " 'Dance Music',\n",
       " 'Easy Listening',\n",
       " 'Electronic Music',\n",
       " 'Hindi Music',\n",
       " 'Hip Hop',\n",
       " 'Indie Pop',\n",
       " 'Jazz',\n",
       " 'Latin Music',\n",
       " 'Motivational',\n",
       " 'New Age',\n",
       " 'Opera',\n",
       " 'Popular',\n",
       " 'Rap',\n",
       " 'Reggae',\n",
       " 'Rock',\n",
       " 'Soulful',\n",
       " 'features',\n",
       " 'scaledFeatures']"
      ]
     },
     "execution_count": 290,
     "metadata": {},
     "output_type": "execute_result"
    }
   ],
   "source": [
    "cluster_final_data.columns"
   ]
  },
  {
   "cell_type": "code",
   "execution_count": 291,
   "metadata": {},
   "outputs": [
    {
     "name": "stdout",
     "output_type": "stream",
     "text": [
      "With K=2\n",
      "Within Set Sum of Squared Errors = 13324.475648979027\n",
      "------------------------------------------------------------\n",
      "With K=3\n",
      "Within Set Sum of Squared Errors = 12699.899722749344\n",
      "------------------------------------------------------------\n",
      "With K=4\n",
      "Within Set Sum of Squared Errors = 11263.261281238181\n",
      "------------------------------------------------------------\n",
      "With K=5\n",
      "Within Set Sum of Squared Errors = 11608.125811487394\n",
      "------------------------------------------------------------\n",
      "With K=6\n",
      "Within Set Sum of Squared Errors = 10479.14665326082\n",
      "------------------------------------------------------------\n",
      "With K=7\n",
      "Within Set Sum of Squared Errors = 10377.739238575698\n",
      "------------------------------------------------------------\n",
      "With K=8\n",
      "Within Set Sum of Squared Errors = 8884.406507460375\n",
      "------------------------------------------------------------\n",
      "With K=9\n",
      "Within Set Sum of Squared Errors = 8743.346814279732\n",
      "------------------------------------------------------------\n"
     ]
    }
   ],
   "source": [
    "errors=[]\n",
    "\n",
    "for k in range(2,10):\n",
    "    kmeans = KMeans(featuresCol='scaledFeatures',k=k)\n",
    "    model = kmeans.fit(cluster_final_data)\n",
    "    wssse = model.computeCost(cluster_final_data)\n",
    "    errors.append(wssse)\n",
    "    print(\"With K={}\".format(k))\n",
    "    print(\"Within Set Sum of Squared Errors = \" + str(wssse))\n",
    "    print('--'*30)"
   ]
  },
  {
   "cell_type": "code",
   "execution_count": 292,
   "metadata": {},
   "outputs": [
    {
     "data": {
      "image/png": "[encoded data removed]",
      "text/plain": [
       "<matplotlib.figure.Figure at 0x7f669257b438>"
      ]
     },
     "metadata": {},
     "output_type": "display_data"
    }
   ],
   "source": [
    "cluster_number = range(2,10)\n",
    "plt.scatter(cluster_number,errors)\n",
    "plt.xlabel('clusters')\n",
    "plt.ylabel('WSSE')\n",
    "plt.show()"
   ]
  },
  {
   "cell_type": "code",
   "execution_count": 262,
   "metadata": {},
   "outputs": [],
   "source": [
    "#Selecting k =7 for kmeans clustering\n",
    "kmeans6 = KMeans(featuresCol='scaledFeatures',k=6)"
   ]
  },
  {
   "cell_type": "code",
   "execution_count": 263,
   "metadata": {},
   "outputs": [],
   "source": [
    "#Fitting the model on data\n",
    "model_k6 = kmeans6.fit(cluster_final_data)"
   ]
  },
  {
   "cell_type": "code",
   "execution_count": 264,
   "metadata": {},
   "outputs": [
    {
     "name": "stdout",
     "output_type": "stream",
     "text": [
      "+----------+-----+\n",
      "|prediction|count|\n",
      "+----------+-----+\n",
      "|         1|    1|\n",
      "|         3|    1|\n",
      "|         5|    7|\n",
      "|         4|    8|\n",
      "|         2|    3|\n",
      "|         0|  783|\n",
      "+----------+-----+\n",
      "\n"
     ]
    }
   ],
   "source": [
    "#Number of customers in each of the clusters\n",
    "model_k6.transform(cluster_final_data).groupBy('prediction').count().show()"
   ]
  },
  {
   "cell_type": "code",
   "execution_count": 265,
   "metadata": {},
   "outputs": [
    {
     "name": "stdout",
     "output_type": "stream",
     "text": [
      "+----------------------+-----------------+---------+-----+---------------+-------------+-----------+--------------+----------------+-----------+-------+---------+----+-----------+------------+-------+-----+-------+----+------+----+-------+--------------------+--------------------+----------+\n",
      "|user_id_music category|Alternative Music|Asian Pop|Blues|Classical Music|Country Music|Dance Music|Easy Listening|Electronic Music|Hindi Music|Hip Hop|Indie Pop|Jazz|Latin Music|Motivational|New Age|Opera|Popular| Rap|Reggae|Rock|Soulful|            features|      scaledFeatures|prediction|\n",
      "+----------------------+-----------------+---------+-----+---------------+-------------+-----------+--------------+----------------+-----------+-------+---------+----+-----------+------------+-------+-----+-------+----+------+----+-------+--------------------+--------------------+----------+\n",
      "|  ca3c4285512798abe...|              878|        5|  137|            160|          110|        134|           127|              42|        151|    140|        8| 308|          0|           6|      0|   23|      0|  42|     0|   7|      0|[878.0,5.0,137.0,...|[0.23060734966208...|         0|\n",
      "|  b457919ae168ac12e...|             1003|        0| 1108|           2003|          292|        834|            94|             523|          1|    250|      102| 136|         22|          27|     23|   47|      8|  61|     0|   0|      1|[1003.0,0.0,1108....|[0.26343869215383...|         0|\n",
      "|  a87bb168ba6e5a8da...|                3|        0|  256|              5|           84|         24|             5|              55|         21|      1|       83|   0|          4|          21|      0|    2|     31|   0|     0|   8|     37|[3.0,0.0,256.0,5....|[7.87952219802098...|         0|\n",
      "|  cf60c9b1a0444261c...|             1583|     3665| 4865|            947|         1322|        662|          6845|            1132|         25|    436|       62| 169|          1|         241|     48|  792|     33|1047|    61|  69|      5|[1583.0,3665.0,48...|[0.41577612131557...|         0|\n",
      "|  8ab21c1b361d5c4aa...|              287|       92| 1052|            404|          493|       2911|           160|             136|          0|     86|      141|  10|          3|         218|    102|   40|     51| 101|     4|  23|      1|[287.0,92.0,1052....|[0.07538076236106...|         0|\n",
      "|  34e22754ffec4a0d4...|             2710|       25| 2273|            589|         1128|       1631|          2190|             562|          9|    515|     1054|   5|          4|          65|     12|   34|    210| 312|     5| 377|     80|[2710.0,25.0,2273...|[0.71178350522122...|         0|\n",
      "|  ad3ea6999df3120cc...|               40|        9|   26|              4|          105|       3382|           288|              64|          7|      3|       37|   0|          2|          18|      0|   51|      3|  31|     0|   0|      0|[40.0,9.0,26.0,4....|[0.01050602959736...|         0|\n",
      "|  3d2ea50eeeb98d4a7...|              384|       43|  270|            305|          253|        894|          1437|             108|         15|    401|      673| 168|          0|          73|     58|  126|      4| 189|     2|  19|     85|[384.0,43.0,270.0...|[0.10085788413466...|         0|\n",
      "|  334533d21eeed37dd...|               97|        0|  104|              1|           67|         41|            16|              22|         36|     57|       37|   0|          0|           0|      1|   32|     26|   2|     1|   0|      6|[97.0,0.0,104.0,1...|[0.02547712177360...|         0|\n",
      "|  bad9c123790cfd0b1...|              347|       42|  162|            254|          219|        469|           103|              44|        602|    392|       30|   0|          1|           0|   1604|   63|      5| 138|     0|   0|     17|[347.0,42.0,162.0...|[0.09113980675710...|         0|\n",
      "|  dd8b41323bbef6d40...|              290|        1|  201|             58|          206|         31|            19|             128|          8|     52|       11|  64|          0|           1|      1|   94|     24|  28|     0|   0|      2|[290.0,1.0,201.0,...|[0.07616871458086...|         0|\n",
      "|  ac40c16b3c6248ceb...|               17|        3|   23|            644|           45|        103|           124|             111|          1|     48|        1|   0|          0|         104|     14|  132|     84|   3|     0|   2|     14|[17.0,3.0,23.0,64...|[0.00446506257887...|         0|\n",
      "|  57c20a25da427c79b...|               33|        0|   29|             50|           18|         92|            16|             108|          0|    158|        6|   7|          0|           4|      2|    6|      0|  37|     2|  42|      2|[33.0,0.0,29.0,50...|[0.00866747441782...|         0|\n",
      "|  b5773ac4aa0d07926...|             1543|        1|  324|           1439|          344|        216|            27|             206|          8|     75|      114|  89|          1|           7|    246|   25|      0| 107|     0|   0|     39|[1543.0,1.0,324.0...|[0.40527009171821...|         0|\n",
      "|  793c0773daa478bf3...|                2|        0|   74|              0|           14|          6|             2|               2|          0|      0|        0|   0|          0|           0|      0|    0|      0|   0|     0|  16|      0|(21,[0,2,4,5,6,7,...|(21,[0,2,4,5,6,7,...|         0|\n",
      "|  4c52a409ecbf4c78b...|              540|        2|  901|            196|          101|        594|           148|              52|       4501|     11|       23|   0|          0|           3|    580|  162|     32|   6|     0|   0|      1|[540.0,2.0,901.0,...|[0.14183139956437...|         0|\n",
      "|  fadebf953475576be...|              929|       24| 1077|            228|          959|        146|           466|             720|          2|     40|      130| 107|          1|         253|      2|   21|     16|   7|     0|  52|     12|[929.0,24.0,1077....|[0.24400253739871...|         0|\n",
      "|  86f98ea95c8b3333b...|              751|      283| 3379|            949|         2696|        825|          1259|             932|          7|   1622|     1227|  34|         31|          75|    173|  571|     51|4303|    22|  11|     27|[751.0,283.0,3379...|[0.19725070569045...|         0|\n",
      "|  1a9da82f18b16577b...|             7075|       34| 5797|           1070|         6003|       3468|          3332|            1152|         44|    950|     1367|  74|         41|         656|    407|  485|    162|2534|    37| 279|    104|[7075.0,34.0,5797...|[1.85825398503328...|         0|\n",
      "|  9e528e07d7deddba5...|             2119|       14|  670|             97|          193|        429|           802|             223|          1|    168|      397|   1|          5|         836|      8|   83|     71| 120|     6|   0|      5|[2119.0,14.0,670....|[0.55655691792021...|         0|\n",
      "+----------------------+-----------------+---------+-----+---------------+-------------+-----------+--------------+----------------+-----------+-------+---------+----+-----------+------------+-------+-----+-------+----+------+----+-------+--------------------+--------------------+----------+\n",
      "only showing top 20 rows\n",
      "\n"
     ]
    }
   ],
   "source": [
    "model_k6.transform(cluster_final_data).show()"
   ]
  },
  {
   "cell_type": "code",
   "execution_count": 266,
   "metadata": {},
   "outputs": [],
   "source": [
    "cluser_prediction=model_k6.transform(cluster_final_data)"
   ]
  },
  {
   "cell_type": "code",
   "execution_count": 208,
   "metadata": {},
   "outputs": [
    {
     "data": {
      "text/plain": [
       "['user_id_music category',\n",
       " 'Alternative Music',\n",
       " 'Asian Pop',\n",
       " 'Blues',\n",
       " 'Classical Music',\n",
       " 'Country Music',\n",
       " 'Dance Music',\n",
       " 'Easy Listening',\n",
       " 'Electronic Music',\n",
       " 'Hindi Music',\n",
       " 'Hip Hop',\n",
       " 'Indie Pop',\n",
       " 'Jazz',\n",
       " 'Latin Music',\n",
       " 'Motivational',\n",
       " 'New Age',\n",
       " 'Opera',\n",
       " 'Popular',\n",
       " 'Rap',\n",
       " 'Reggae',\n",
       " 'Rock',\n",
       " 'Soulful',\n",
       " 'features',\n",
       " 'scaledFeatures',\n",
       " 'prediction']"
      ]
     },
     "execution_count": 208,
     "metadata": {},
     "output_type": "execute_result"
    }
   ],
   "source": [
    "cluser_prediction.columns"
   ]
  },
  {
   "cell_type": "code",
   "execution_count": 267,
   "metadata": {},
   "outputs": [
    {
     "name": "stdout",
     "output_type": "stream",
     "text": [
      "+----------------------------------------------------------------+---------------------------------------------------------------+----------+\n",
      "|user_id_music category                                          |pca_features                                                   |prediction|\n",
      "+----------------------------------------------------------------+---------------------------------------------------------------+----------+\n",
      "|ca3c4285512798abe7d81fa2d0588549211be9516d9b2050e5564f8e912312c7|[-0.2300557938814522,0.12236096340687881,-0.09819806352845252] |0         |\n",
      "|b457919ae168ac12ec7e0303ae0d5fe292b63c9d04eb54e039942e7f46552ec4|[-0.6087376000709741,0.1393766034435933,-0.08285687930970416]  |0         |\n",
      "|a87bb168ba6e5a8da5eccce18c95565d843b40c1833b0f6c3089eb083f0fe3d3|[-0.18984573757826703,0.18335321555713666,-0.04070920716381461]|0         |\n",
      "|cf60c9b1a0444261c3a4687677f5336686b96756df5e33c11f6016f16fb38372|[-3.5303846560716243,0.2409873719975444,1.5352890439878513]    |0         |\n",
      "|8ab21c1b361d5c4aa1ed01893305febf1c6659bd342217eece1225d789ba57da|[-0.6960980947562179,0.41539540556739135,0.1328825143325103]   |0         |\n",
      "|34e22754ffec4a0d434edfa0f3b10c0e1ab14c632cee37514076d211cf1e7017|[-2.257072907776157,0.8089949841080919,1.2387846022550741]     |0         |\n",
      "|ad3ea6999df3120ccb557d34cf75e17dfdd3febe445e9e1bc36514642fcd3bdb|[-0.3029424055899029,0.33805054945697277,0.008961187319110489] |0         |\n",
      "|3d2ea50eeeb98d4a79259ee057955696ec9dc46e1b72e8d8eff099feb3362e1f|[-0.9323219502113488,0.3736446206947567,-0.043118886660126865] |0         |\n",
      "|334533d21eeed37dd2b686022857f9f42eef9fa6192a8653040af844be8d15ef|[-0.11094580775076693,0.08015760196448801,-0.06321874934348005]|0         |\n",
      "|bad9c123790cfd0b1106190de5623afbb70de0e71f5d48dc05ee6d743a2f50a8|[-0.6351994079763649,0.793235732026063,-1.0160382517545277]    |0         |\n",
      "|dd8b41323bbef6d4093879c63966b025d9dd3dbdab1b372ec3c09ee9e40e277c|[-0.17132910926983444,0.1277668075777433,-0.0470209094114813]  |0         |\n",
      "|ac40c16b3c6248cebdfb8cb9e2dee4575862ef1223ece1b393b45b6b2561e8fc|[-0.2903272633206924,0.08141975525312077,-0.21732610354225085] |0         |\n",
      "|57c20a25da427c79b41690be1b895110bbae9fb583a32a2d27c310e9caa1a395|[-0.11975062913560969,0.009634403704897421,0.07015619316777143]|0         |\n",
      "|b5773ac4aa0d079266ecc3f02d0a16a0f7fd0789b7c0553782dd0588d57298b4|[-0.48174751228998336,0.271430459218724,-0.09194050266187365]  |0         |\n",
      "|793c0773daa478bf340a4c6f63fad3beedef69aaa0a8f503995450c8a75cd2bd|[-0.02753371619037461,0.020308569712319913,0.04797976095330012]|0         |\n",
      "|4c52a409ecbf4c78bf6aa73611615d7c68090162250aeed3118d57177e291e63|[-1.6901586196342482,2.21956008304968,-3.766016656348226]      |0         |\n",
      "|fadebf953475576be81797433f0d28278858f93eee0cefcc95b5b03dd787c327|[-0.7219377645248845,0.1765651096513876,0.3217666909296957]    |0         |\n",
      "|86f98ea95c8b3333b947bf9a1a305150633df37e6aac807cddcbbe3463bfd53d|[-2.6990422233861433,0.6459891019095801,0.43543576199822437]   |0         |\n",
      "|1a9da82f18b16577b872a71cefdeae63a7725eac5547820182ba82d8845b02ee|[-4.56703702182408,2.0873377994457507,1.8174975424357205]      |0         |\n",
      "|9e528e07d7deddba5dcafd78c60059c7a91a7233350b2dcad109ae3b413d6aaf|[-0.9464607241789978,0.05019279855469194,0.23245132933281556]  |0         |\n",
      "+----------------------------------------------------------------+---------------------------------------------------------------+----------+\n",
      "only showing top 20 rows\n",
      "\n"
     ]
    }
   ],
   "source": [
    "### PCA for visualization \n",
    "\n",
    "from pyspark.ml.feature import PCA\n",
    "from pyspark.ml.linalg import Vectors\n",
    "\n",
    "\n",
    "\n",
    "pca = PCA(k=3, inputCol=\"scaledFeatures\", outputCol=\"pca_features\")\n",
    "pca_model = pca.fit(cluser_prediction)\n",
    "\n",
    "result = pca_model.transform(cluser_prediction).select('user_id_music category',\"pca_features\",'prediction')\n",
    "result.show(truncate=False)"
   ]
  },
  {
   "cell_type": "code",
   "execution_count": 268,
   "metadata": {},
   "outputs": [
    {
     "data": {
      "text/html": [
       "<div>\n",
       "<table border=\"1\" class=\"dataframe\">\n",
       "  <thead>\n",
       "    <tr style=\"text-align: right;\">\n",
       "      <th></th>\n",
       "      <th>pca_features</th>\n",
       "      <th>prediction</th>\n",
       "    </tr>\n",
       "    <tr>\n",
       "      <th>user_id_music category</th>\n",
       "      <th></th>\n",
       "      <th></th>\n",
       "    </tr>\n",
       "  </thead>\n",
       "  <tbody>\n",
       "    <tr>\n",
       "      <th>ca3c4285512798abe7d81fa2d0588549211be9516d9b2050e5564f8e912312c7</th>\n",
       "      <td>[-0.230055793881, 0.122360963407, -0.098198063...</td>\n",
       "      <td>0</td>\n",
       "    </tr>\n",
       "    <tr>\n",
       "      <th>b457919ae168ac12ec7e0303ae0d5fe292b63c9d04eb54e039942e7f46552ec4</th>\n",
       "      <td>[-0.608737600071, 0.139376603444, -0.082856879...</td>\n",
       "      <td>0</td>\n",
       "    </tr>\n",
       "    <tr>\n",
       "      <th>a87bb168ba6e5a8da5eccce18c95565d843b40c1833b0f6c3089eb083f0fe3d3</th>\n",
       "      <td>[-0.189845737578, 0.183353215557, -0.040709207...</td>\n",
       "      <td>0</td>\n",
       "    </tr>\n",
       "    <tr>\n",
       "      <th>cf60c9b1a0444261c3a4687677f5336686b96756df5e33c11f6016f16fb38372</th>\n",
       "      <td>[-3.53038465607, 0.240987371998, 1.53528904399]</td>\n",
       "      <td>0</td>\n",
       "    </tr>\n",
       "    <tr>\n",
       "      <th>8ab21c1b361d5c4aa1ed01893305febf1c6659bd342217eece1225d789ba57da</th>\n",
       "      <td>[-0.696098094756, 0.415395405567, 0.132882514333]</td>\n",
       "      <td>0</td>\n",
       "    </tr>\n",
       "  </tbody>\n",
       "</table>\n",
       "</div>"
      ],
      "text/plain": [
       "                                                                                         pca_features  \\\n",
       "user_id_music category                                                                                  \n",
       "ca3c4285512798abe7d81fa2d0588549211be9516d9b205...  [-0.230055793881, 0.122360963407, -0.098198063...   \n",
       "b457919ae168ac12ec7e0303ae0d5fe292b63c9d04eb54e...  [-0.608737600071, 0.139376603444, -0.082856879...   \n",
       "a87bb168ba6e5a8da5eccce18c95565d843b40c1833b0f6...  [-0.189845737578, 0.183353215557, -0.040709207...   \n",
       "cf60c9b1a0444261c3a4687677f5336686b96756df5e33c...    [-3.53038465607, 0.240987371998, 1.53528904399]   \n",
       "8ab21c1b361d5c4aa1ed01893305febf1c6659bd342217e...  [-0.696098094756, 0.415395405567, 0.132882514333]   \n",
       "\n",
       "                                                    prediction  \n",
       "user_id_music category                                          \n",
       "ca3c4285512798abe7d81fa2d0588549211be9516d9b205...           0  \n",
       "b457919ae168ac12ec7e0303ae0d5fe292b63c9d04eb54e...           0  \n",
       "a87bb168ba6e5a8da5eccce18c95565d843b40c1833b0f6...           0  \n",
       "cf60c9b1a0444261c3a4687677f5336686b96756df5e33c...           0  \n",
       "8ab21c1b361d5c4aa1ed01893305febf1c6659bd342217e...           0  "
      ]
     },
     "execution_count": 268,
     "metadata": {},
     "output_type": "execute_result"
    }
   ],
   "source": [
    "clusters = result.toPandas().set_index('user_id_music category')\n",
    "clusters.head()"
   ]
  },
  {
   "cell_type": "code",
   "execution_count": 269,
   "metadata": {},
   "outputs": [],
   "source": [
    "clusters[['x','y','z']]=pd.DataFrame(clusters.pca_features.values.tolist(), index= clusters.index)"
   ]
  },
  {
   "cell_type": "code",
   "execution_count": 270,
   "metadata": {},
   "outputs": [],
   "source": [
    "del clusters['pca_features']"
   ]
  },
  {
   "cell_type": "code",
   "execution_count": 271,
   "metadata": {},
   "outputs": [
    {
     "data": {
      "text/html": [
       "<div>\n",
       "<table border=\"1\" class=\"dataframe\">\n",
       "  <thead>\n",
       "    <tr style=\"text-align: right;\">\n",
       "      <th></th>\n",
       "      <th>prediction</th>\n",
       "      <th>x</th>\n",
       "      <th>y</th>\n",
       "      <th>z</th>\n",
       "    </tr>\n",
       "    <tr>\n",
       "      <th>user_id_music category</th>\n",
       "      <th></th>\n",
       "      <th></th>\n",
       "      <th></th>\n",
       "      <th></th>\n",
       "    </tr>\n",
       "  </thead>\n",
       "  <tbody>\n",
       "    <tr>\n",
       "      <th>ca3c4285512798abe7d81fa2d0588549211be9516d9b2050e5564f8e912312c7</th>\n",
       "      <td>0</td>\n",
       "      <td>-0.230056</td>\n",
       "      <td>0.122361</td>\n",
       "      <td>-0.098198</td>\n",
       "    </tr>\n",
       "    <tr>\n",
       "      <th>b457919ae168ac12ec7e0303ae0d5fe292b63c9d04eb54e039942e7f46552ec4</th>\n",
       "      <td>0</td>\n",
       "      <td>-0.608738</td>\n",
       "      <td>0.139377</td>\n",
       "      <td>-0.082857</td>\n",
       "    </tr>\n",
       "    <tr>\n",
       "      <th>a87bb168ba6e5a8da5eccce18c95565d843b40c1833b0f6c3089eb083f0fe3d3</th>\n",
       "      <td>0</td>\n",
       "      <td>-0.189846</td>\n",
       "      <td>0.183353</td>\n",
       "      <td>-0.040709</td>\n",
       "    </tr>\n",
       "    <tr>\n",
       "      <th>cf60c9b1a0444261c3a4687677f5336686b96756df5e33c11f6016f16fb38372</th>\n",
       "      <td>0</td>\n",
       "      <td>-3.530385</td>\n",
       "      <td>0.240987</td>\n",
       "      <td>1.535289</td>\n",
       "    </tr>\n",
       "    <tr>\n",
       "      <th>8ab21c1b361d5c4aa1ed01893305febf1c6659bd342217eece1225d789ba57da</th>\n",
       "      <td>0</td>\n",
       "      <td>-0.696098</td>\n",
       "      <td>0.415395</td>\n",
       "      <td>0.132883</td>\n",
       "    </tr>\n",
       "  </tbody>\n",
       "</table>\n",
       "</div>"
      ],
      "text/plain": [
       "                                                    prediction         x  \\\n",
       "user_id_music category                                                     \n",
       "ca3c4285512798abe7d81fa2d0588549211be9516d9b205...           0 -0.230056   \n",
       "b457919ae168ac12ec7e0303ae0d5fe292b63c9d04eb54e...           0 -0.608738   \n",
       "a87bb168ba6e5a8da5eccce18c95565d843b40c1833b0f6...           0 -0.189846   \n",
       "cf60c9b1a0444261c3a4687677f5336686b96756df5e33c...           0 -3.530385   \n",
       "8ab21c1b361d5c4aa1ed01893305febf1c6659bd342217e...           0 -0.696098   \n",
       "\n",
       "                                                           y         z  \n",
       "user_id_music category                                                  \n",
       "ca3c4285512798abe7d81fa2d0588549211be9516d9b205...  0.122361 -0.098198  \n",
       "b457919ae168ac12ec7e0303ae0d5fe292b63c9d04eb54e...  0.139377 -0.082857  \n",
       "a87bb168ba6e5a8da5eccce18c95565d843b40c1833b0f6...  0.183353 -0.040709  \n",
       "cf60c9b1a0444261c3a4687677f5336686b96756df5e33c...  0.240987  1.535289  \n",
       "8ab21c1b361d5c4aa1ed01893305febf1c6659bd342217e...  0.415395  0.132883  "
      ]
     },
     "execution_count": 271,
     "metadata": {},
     "output_type": "execute_result"
    }
   ],
   "source": [
    "clusters.head()"
   ]
  },
  {
   "cell_type": "code",
   "execution_count": 272,
   "metadata": {},
   "outputs": [
    {
     "data": {
      "image/png": "[encoded data removed]",
      "text/plain": [
       "<matplotlib.figure.Figure at 0x7f6691d91d30>"
      ]
     },
     "metadata": {},
     "output_type": "display_data"
    }
   ],
   "source": [
    "from mpl_toolkits.mplot3d import Axes3D\n",
    "threedee = plt.figure(figsize=(10,10)).gca(projection='3d')\n",
    "threedee.scatter(clusters.x, clusters.y, clusters.z, c=clusters.prediction)\n",
    "threedee.set_xlabel('x')\n",
    "threedee.set_ylabel('y')\n",
    "threedee.set_zlabel('z')\n",
    "plt.show()"
   ]
  },
  {
   "cell_type": "code",
   "execution_count": null,
   "metadata": {},
   "outputs": [],
   "source": []
  }
 ],
 "metadata": {
  "kernelspec": {
   "display_name": "Python 3",
   "language": "python",
   "name": "python3"
  },
  "language_info": {
   "codemirror_mode": {
    "name": "ipython",
    "version": 3
   },
   "file_extension": ".py",
   "mimetype": "text/x-python",
   "name": "python",
   "nbconvert_exporter": "python",
   "pygments_lexer": "ipython3",
   "version": "3.6.3"
  }
 },
 "nbformat": 4,
 "nbformat_minor": 2
}
