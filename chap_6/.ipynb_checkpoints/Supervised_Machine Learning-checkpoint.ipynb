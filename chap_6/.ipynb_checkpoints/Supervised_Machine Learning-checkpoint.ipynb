{
 "cells": [
  {
   "cell_type": "code",
   "execution_count": 329,
   "metadata": {
    "collapsed": true
   },
   "outputs": [],
   "source": [
    "#import SparkSession\n",
    "from pyspark.sql import SparkSession\n",
    "#create spar session object\n",
    "spark=SparkSession.builder.appName('supervised_ml').getOrCreate()"
   ]
  },
  {
   "cell_type": "markdown",
   "metadata": {},
   "source": [
    "# Regression "
   ]
  },
  {
   "cell_type": "code",
   "execution_count": 331,
   "metadata": {
    "collapsed": true
   },
   "outputs": [],
   "source": [
    "df=spark.read.csv('Linear_regression_dataset.csv',inferSchema=True,header=True)"
   ]
  },
  {
   "cell_type": "code",
   "execution_count": 332,
   "metadata": {
    "collapsed": true
   },
   "outputs": [],
   "source": [
    "from pyspark.ml.regression import LinearRegression\n",
    "from pyspark.ml.feature import OneHotEncoder, StringIndexer, VectorAssembler\n"
   ]
  },
  {
   "cell_type": "code",
   "execution_count": 333,
   "metadata": {},
   "outputs": [
    {
     "name": "stdout",
     "output_type": "stream",
     "text": [
      "(1232, 6)\n"
     ]
    }
   ],
   "source": [
    "print((df.count(), len(df.columns)))"
   ]
  },
  {
   "cell_type": "code",
   "execution_count": 6,
   "metadata": {},
   "outputs": [
    {
     "name": "stdout",
     "output_type": "stream",
     "text": [
      "+-----+-----+-----+-----+-----+-----+\n",
      "|var_1|var_2|var_3|var_4|var_5|label|\n",
      "+-----+-----+-----+-----+-----+-----+\n",
      "|  734|  688|   81|0.328|0.259|0.418|\n",
      "|  700|  600|   94| 0.32|0.247|0.389|\n",
      "|  712|  705|   93|0.311|0.247|0.417|\n",
      "|  734|  806|   69|0.315| 0.26|0.415|\n",
      "|  613|  759|   61|0.302| 0.24|0.378|\n",
      "|  748|  676|   85|0.318|0.255|0.422|\n",
      "|  669|  588|   97|0.315|0.251|0.411|\n",
      "|  667|  845|   68|0.324|0.251|0.381|\n",
      "|  758|  890|   64| 0.33|0.274|0.436|\n",
      "|  726|  670|   88|0.335|0.268|0.422|\n",
      "+-----+-----+-----+-----+-----+-----+\n",
      "only showing top 10 rows\n",
      "\n"
     ]
    }
   ],
   "source": [
    "df.show(10)"
   ]
  },
  {
   "cell_type": "code",
   "execution_count": 334,
   "metadata": {
    "collapsed": true
   },
   "outputs": [],
   "source": [
    "df_assembler = VectorAssembler(inputCols=['var_1', 'var_2', 'var_3', 'var_4', 'var_5'], outputCol=\"features\")\n",
    "df = df_assembler.transform(df) "
   ]
  },
  {
   "cell_type": "code",
   "execution_count": 335,
   "metadata": {},
   "outputs": [
    {
     "name": "stdout",
     "output_type": "stream",
     "text": [
      "+--------------------+-----+\n",
      "|            features|label|\n",
      "+--------------------+-----+\n",
      "|[734.0,688.0,81.0...|0.418|\n",
      "|[700.0,600.0,94.0...|0.389|\n",
      "|[712.0,705.0,93.0...|0.417|\n",
      "|[734.0,806.0,69.0...|0.415|\n",
      "|[613.0,759.0,61.0...|0.378|\n",
      "|[748.0,676.0,85.0...|0.422|\n",
      "|[669.0,588.0,97.0...|0.411|\n",
      "|[667.0,845.0,68.0...|0.381|\n",
      "|[758.0,890.0,64.0...|0.436|\n",
      "|[726.0,670.0,88.0...|0.422|\n",
      "|[583.0,794.0,55.0...|0.371|\n",
      "|[676.0,746.0,72.0...|  0.4|\n",
      "|[767.0,699.0,89.0...|0.433|\n",
      "|[637.0,597.0,86.0...|0.374|\n",
      "|[609.0,724.0,69.0...|0.382|\n",
      "|[776.0,733.0,83.0...|0.437|\n",
      "|[701.0,832.0,66.0...| 0.39|\n",
      "|[650.0,709.0,74.0...|0.386|\n",
      "|[804.0,668.0,95.0...|0.453|\n",
      "|[713.0,614.0,94.0...|0.404|\n",
      "+--------------------+-----+\n",
      "only showing top 20 rows\n",
      "\n"
     ]
    }
   ],
   "source": [
    "df.select(['features','label']).show()"
   ]
  },
  {
   "cell_type": "code",
   "execution_count": 337,
   "metadata": {},
   "outputs": [
    {
     "name": "stdout",
     "output_type": "stream",
     "text": [
      "Size of train Dataset : 911\n",
      "Size of test Dataset : 321\n"
     ]
    }
   ],
   "source": [
    "train, test = df.randomSplit([0.75, 0.25])\n",
    "print(f\"Size of train Dataset : {train.count()}\" )\n",
    "print(f\"Size of test Dataset : {test.count()}\" )\n",
    "\n"
   ]
  },
  {
   "cell_type": "code",
   "execution_count": 338,
   "metadata": {
    "collapsed": true
   },
   "outputs": [],
   "source": [
    "lr = LinearRegression()"
   ]
  },
  {
   "cell_type": "code",
   "execution_count": 339,
   "metadata": {
    "collapsed": true
   },
   "outputs": [],
   "source": [
    "# Fit the model\n",
    "lr_model = lr.fit(train)"
   ]
  },
  {
   "cell_type": "code",
   "execution_count": null,
   "metadata": {
    "collapsed": true
   },
   "outputs": [],
   "source": [
    "predictions_df=lr_model.transform(test)"
   ]
  },
  {
   "cell_type": "code",
   "execution_count": null,
   "metadata": {
    "collapsed": true
   },
   "outputs": [],
   "source": [
    "predictions_df.show()"
   ]
  },
  {
   "cell_type": "code",
   "execution_count": 340,
   "metadata": {
    "collapsed": true
   },
   "outputs": [],
   "source": [
    "model_predictions=lr_model.evaluate(test)\n"
   ]
  },
  {
   "cell_type": "code",
   "execution_count": 345,
   "metadata": {},
   "outputs": [
    {
     "name": "stdout",
     "output_type": "stream",
     "text": [
      "0.8855561089304634\n"
     ]
    }
   ],
   "source": [
    "print(model_predictions.r2)"
   ]
  },
  {
   "cell_type": "code",
   "execution_count": 346,
   "metadata": {},
   "outputs": [
    {
     "name": "stdout",
     "output_type": "stream",
     "text": [
      "0.00013305453514672318\n"
     ]
    }
   ],
   "source": [
    "print(model_predictions.meanSquaredError)\n"
   ]
  },
  {
   "cell_type": "code",
   "execution_count": 348,
   "metadata": {
    "collapsed": true
   },
   "outputs": [],
   "source": [
    "#import the GLM model\n",
    "from pyspark.ml.regression import GeneralizedLinearRegression\n"
   ]
  },
  {
   "cell_type": "code",
   "execution_count": 365,
   "metadata": {
    "collapsed": true
   },
   "outputs": [],
   "source": [
    "glr = GeneralizedLinearRegression()\n"
   ]
  },
  {
   "cell_type": "code",
   "execution_count": 366,
   "metadata": {
    "collapsed": true
   },
   "outputs": [],
   "source": [
    "glr_model = glr.fit(train)"
   ]
  },
  {
   "cell_type": "code",
   "execution_count": 351,
   "metadata": {},
   "outputs": [
    {
     "data": {
      "text/plain": [
       "DenseVector([0.0003, 0.0001, 0.0002, -0.6258, 0.461])"
      ]
     },
     "execution_count": 351,
     "metadata": {},
     "output_type": "execute_result"
    }
   ],
   "source": [
    "glr_model.coefficients"
   ]
  },
  {
   "cell_type": "code",
   "execution_count": 352,
   "metadata": {},
   "outputs": [
    {
     "data": {
      "text/plain": [
       "Coefficients:\n",
       "    Feature Estimate Std Error T Value P Value\n",
       "(Intercept)   0.1887    0.0169 11.1450  0.0000\n",
       "      var_1   0.0003    0.0000 22.5404  0.0000\n",
       "      var_2   0.0001    0.0000  4.3525  0.0000\n",
       "      var_3   0.0002    0.0001  1.7469  0.0810\n",
       "      var_4  -0.6258    0.0707 -8.8489  0.0000\n",
       "      var_5   0.4610    0.0626  7.3697  0.0000\n",
       "\n",
       "(Dispersion parameter for gaussian family taken to be 0.0001)\n",
       "    Null deviance: 0.9886 on 905 degrees of freedom\n",
       "Residual deviance: 0.1355 on 905 degrees of freedom\n",
       "AIC: -5429.3467"
      ]
     },
     "execution_count": 352,
     "metadata": {},
     "output_type": "execute_result"
    }
   ],
   "source": [
    "glr_model.summary"
   ]
  },
  {
   "cell_type": "code",
   "execution_count": 367,
   "metadata": {
    "collapsed": true
   },
   "outputs": [],
   "source": [
    "model_predictions=glr_model.evaluate(test)\n"
   ]
  },
  {
   "cell_type": "code",
   "execution_count": 368,
   "metadata": {},
   "outputs": [
    {
     "name": "stdout",
     "output_type": "stream",
     "text": [
      "+-----+-----+-----+-----+-----+-----+--------------------+-------------------+\n",
      "|var_1|var_2|var_3|var_4|var_5|label|            features|         prediction|\n",
      "+-----+-----+-----+-----+-----+-----+--------------------+-------------------+\n",
      "|  473|  499|   73|0.281|0.228|0.315|[473.0,499.0,73.0...| 0.3168228205906638|\n",
      "|  498|  672|   61|0.288|0.238|0.325|[498.0,672.0,61.0...|0.33224574821552433|\n",
      "|  513|  698|   61|0.298|0.236|0.339|[513.0,698.0,61.0...| 0.3314803948399759|\n",
      "|  527|  569|   75|0.297|0.239|0.341|[527.0,569.0,75.0...| 0.3341226140464902|\n",
      "|  532|  690|   69|0.303|0.245|0.351|[532.0,690.0,69.0...| 0.3399564421746622|\n",
      "|  534|  609|   69|0.304|0.229|0.329|[534.0,609.0,69.0...|0.32848240366793496|\n",
      "|  536|  531|   83|0.292|0.214|0.318|[536.0,531.0,83.0...|  0.328257290790113|\n",
      "|  541|  830|   60|0.302|0.229| 0.33|[541.0,830.0,60.0...| 0.3418227186125283|\n",
      "|  543|  615|   76|0.294|0.233|0.333|[543.0,615.0,76.0...|0.34119126494490326|\n",
      "|  550|  631|   76|0.306|0.235|0.318|[550.0,631.0,76.0...| 0.3377949136360593|\n",
      "|  550|  789|   54|0.305|0.238|0.359|[550.0,789.0,54.0...| 0.3439728742988891|\n",
      "|  557|  659|   71|0.295|0.234|0.355|[557.0,659.0,71.0...|0.34713268891908144|\n",
      "|  559|  613|   75|0.293|0.235|0.359|[559.0,613.0,75.0...|0.34788019044256024|\n",
      "|  569|  620|   77|0.302|0.247|0.349|[569.0,620.0,77.0...|0.35188383904315806|\n",
      "|  569|  711|   65|0.305|0.237| 0.34|[569.0,711.0,65.0...| 0.3479171474465841|\n",
      "|  570|  655|   66|0.311|0.246| 0.34|[570.0,655.0,66.0...| 0.3459593594270007|\n",
      "|  570|  662|   73| 0.31|0.247|0.337|[570.0,662.0,73.0...| 0.3486539304568965|\n",
      "|  570|  786|   57|0.301|0.249|0.366|[570.0,786.0,57.0...|0.35870641360119765|\n",
      "|  572|  646|   71|0.311|0.235|0.329|[572.0,646.0,71.0...| 0.3419971659838297|\n",
      "|  573|  634|   75|0.308|0.244|0.342|[573.0,634.0,75.0...|0.34846159793536235|\n",
      "+-----+-----+-----+-----+-----+-----+--------------------+-------------------+\n",
      "only showing top 20 rows\n",
      "\n"
     ]
    }
   ],
   "source": [
    "model_predictions.predictions.show()"
   ]
  },
  {
   "cell_type": "code",
   "execution_count": 369,
   "metadata": {},
   "outputs": [
    {
     "data": {
      "text/plain": [
       "-1939.8866851859273"
      ]
     },
     "execution_count": 369,
     "metadata": {},
     "output_type": "execute_result"
    }
   ],
   "source": [
    "model_predictions.aic"
   ]
  },
  {
   "cell_type": "code",
   "execution_count": 359,
   "metadata": {},
   "outputs": [
    {
     "data": {
      "text/plain": [
       "336.9915101112133"
      ]
     },
     "execution_count": 359,
     "metadata": {},
     "output_type": "execute_result"
    }
   ],
   "source": [
    "glr = GeneralizedLinearRegression(family='Binomial')\n",
    "glr_model = glr.fit(train)\n",
    "model_predictions=glr_model.evaluate(test)\n",
    "model_predictions.aic"
   ]
  },
  {
   "cell_type": "code",
   "execution_count": 360,
   "metadata": {},
   "outputs": [
    {
     "data": {
      "text/plain": [
       "266.53028779813695"
      ]
     },
     "execution_count": 360,
     "metadata": {},
     "output_type": "execute_result"
    }
   ],
   "source": [
    "glr = GeneralizedLinearRegression(family='Poisson')\n",
    "glr_model = glr.fit(train)\n",
    "model_predictions=glr_model.evaluate(test)\n",
    "model_predictions.aic"
   ]
  },
  {
   "cell_type": "code",
   "execution_count": 364,
   "metadata": {},
   "outputs": [
    {
     "data": {
      "text/plain": [
       "-1903.815764540875"
      ]
     },
     "execution_count": 364,
     "metadata": {},
     "output_type": "execute_result"
    }
   ],
   "source": [
    "\n",
    "glr = GeneralizedLinearRegression(family='Gamma')\n",
    "glr_model = glr.fit(train)\n",
    "model_predictions=glr_model.evaluate(test)\n",
    "model_predictions.aic"
   ]
  },
  {
   "cell_type": "code",
   "execution_count": 363,
   "metadata": {},
   "outputs": [
    {
     "data": {
      "text/plain": [
       "-1939.8866851859273"
      ]
     },
     "execution_count": 363,
     "metadata": {},
     "output_type": "execute_result"
    }
   ],
   "source": [
    "glr = GeneralizedLinearRegression(family='Tweedie')\n",
    "glr_model = glr.fit(train)\n",
    "model_predictions=glr_model.evaluate(test)\n",
    "model_predictions.aic"
   ]
  },
  {
   "cell_type": "code",
   "execution_count": 370,
   "metadata": {
    "collapsed": true
   },
   "outputs": [],
   "source": [
    "from pyspark.ml.regression import DecisionTreeRegressor\n"
   ]
  },
  {
   "cell_type": "code",
   "execution_count": 371,
   "metadata": {
    "collapsed": true
   },
   "outputs": [],
   "source": [
    "dec_tree = DecisionTreeRegressor()"
   ]
  },
  {
   "cell_type": "code",
   "execution_count": 372,
   "metadata": {
    "collapsed": true
   },
   "outputs": [],
   "source": [
    "# Train model.  This also runs the indexer.\n",
    "dec_tree_model = dec_tree.fit(train)\n"
   ]
  },
  {
   "cell_type": "code",
   "execution_count": 373,
   "metadata": {},
   "outputs": [
    {
     "data": {
      "text/plain": [
       "SparseVector(5, {0: 0.9667, 1: 0.0124, 2: 0.0045, 3: 0.0053, 4: 0.0112})"
      ]
     },
     "execution_count": 373,
     "metadata": {},
     "output_type": "execute_result"
    }
   ],
   "source": [
    "dec_tree_model.featureImportances"
   ]
  },
  {
   "cell_type": "code",
   "execution_count": 105,
   "metadata": {
    "collapsed": true
   },
   "outputs": [],
   "source": [
    "# Make predictions.\n",
    "model_predictions = dec_tree_model.transform(test)"
   ]
  },
  {
   "cell_type": "code",
   "execution_count": 106,
   "metadata": {},
   "outputs": [
    {
     "name": "stdout",
     "output_type": "stream",
     "text": [
      "+-----+-----+-----+-----+-----+-----+--------------------+-------------------+\n",
      "|var_1|var_2|var_3|var_4|var_5|label|            features|         prediction|\n",
      "+-----+-----+-----+-----+-----+-----+--------------------+-------------------+\n",
      "|  464|  640|   66|0.283| 0.22|0.301|[464.0,640.0,66.0...|            0.31925|\n",
      "|  501|  774|   51|0.285|0.219|0.315|[501.0,774.0,51.0...|               0.33|\n",
      "|  533|  660|   62|0.296|0.233| 0.33|[533.0,660.0,62.0...|               0.33|\n",
      "|  534|  609|   69|0.304|0.229|0.329|[534.0,609.0,69.0...|            0.31925|\n",
      "|  559|  613|   75|0.293|0.235|0.359|[559.0,613.0,75.0...|0.34612195121951217|\n",
      "|  562|  587|   80|0.308|0.235|0.344|[562.0,587.0,80.0...|0.34612195121951217|\n",
      "|  564|  648|   74|0.294|0.236|0.337|[564.0,648.0,74.0...|0.34612195121951217|\n",
      "|  568|  708|   57|0.311|0.247|0.347|[568.0,708.0,57.0...|0.34612195121951217|\n",
      "|  569|  544|   82|0.304| 0.24|0.343|[569.0,544.0,82.0...|0.34612195121951217|\n",
      "|  571|  577|   83|0.298|0.251|0.368|[571.0,577.0,83.0...| 0.3534705882352937|\n",
      "|  573|  656|   75|0.313|0.242|0.345|[573.0,656.0,75.0...|0.34612195121951217|\n",
      "|  574|  556|   85|0.303|0.243|0.368|[574.0,556.0,85.0...|0.34612195121951217|\n",
      "|  575|  680|   68|  0.3|0.241|0.344|[575.0,680.0,68.0...|0.34612195121951217|\n",
      "|  576|  759|   57|0.313|0.254| 0.35|[576.0,759.0,57.0...|0.35724999999999996|\n",
      "|  578|  633|   76|0.309|0.249|0.337|[578.0,633.0,76.0...| 0.3534705882352937|\n",
      "|  578|  733|   62|0.299|0.231|0.348|[578.0,733.0,62.0...|0.35724999999999996|\n",
      "|  579|  497|   91|0.304|0.225|0.352|[579.0,497.0,91.0...|0.34612195121951217|\n",
      "|  581|  724|   64|0.314|0.248|0.346|[581.0,724.0,64.0...|0.35724999999999996|\n",
      "|  582|  791|   52| 0.31| 0.24|0.359|[582.0,791.0,52.0...|0.35724999999999996|\n",
      "|  584|  680|   63|0.298|0.234| 0.35|[584.0,680.0,63.0...|0.34612195121951217|\n",
      "+-----+-----+-----+-----+-----+-----+--------------------+-------------------+\n",
      "only showing top 20 rows\n",
      "\n"
     ]
    }
   ],
   "source": [
    "model_predictions.show()"
   ]
  },
  {
   "cell_type": "code",
   "execution_count": 107,
   "metadata": {
    "collapsed": true
   },
   "outputs": [],
   "source": [
    "from pyspark.ml.evaluation import RegressionEvaluator\n"
   ]
  },
  {
   "cell_type": "code",
   "execution_count": 111,
   "metadata": {},
   "outputs": [
    {
     "name": "stdout",
     "output_type": "stream",
     "text": [
      "The r-square value of DecisionTreeRegressor is 0.8093834699203476\n",
      "The rmse value of DecisionTreeRegressor is 0.014111932287681688\n"
     ]
    }
   ],
   "source": [
    "# R2 value of the model on test data \n",
    "dt_evaluator = RegressionEvaluator(metricName='r2')\n",
    "dt_r2 = dt_evaluator.evaluate(model_predictions)\n",
    "print(f'The r-square value of DecisionTreeRegressor is {dt_r2}')\n",
    "\n",
    "# RMSE value of the model on test data \n",
    "dt_evaluator = RegressionEvaluator(metricName='rmse')\n",
    "dt_rmse = dt_evaluator.evaluate(model_predictions)\n",
    "print(f'The rmse value of DecisionTreeRegressor is {dt_rmse}')\n",
    "\n"
   ]
  },
  {
   "cell_type": "code",
   "execution_count": 374,
   "metadata": {
    "collapsed": true
   },
   "outputs": [],
   "source": [
    "from pyspark.ml.regression import RandomForestRegressor\n"
   ]
  },
  {
   "cell_type": "code",
   "execution_count": 122,
   "metadata": {
    "collapsed": true
   },
   "outputs": [],
   "source": [
    "rf = RandomForestRegressor()"
   ]
  },
  {
   "cell_type": "code",
   "execution_count": 123,
   "metadata": {
    "collapsed": true
   },
   "outputs": [],
   "source": [
    "# Train model.  This also runs the indexer.\n",
    "rf_model = rf.fit(train)\n"
   ]
  },
  {
   "cell_type": "code",
   "execution_count": 125,
   "metadata": {},
   "outputs": [
    {
     "data": {
      "text/plain": [
       "SparseVector(5, {0: 0.4395, 1: 0.045, 2: 0.0243, 3: 0.2725, 4: 0.2188})"
      ]
     },
     "execution_count": 125,
     "metadata": {},
     "output_type": "execute_result"
    }
   ],
   "source": [
    "rf_model.featureImportances"
   ]
  },
  {
   "cell_type": "code",
   "execution_count": 126,
   "metadata": {},
   "outputs": [
    {
     "data": {
      "text/plain": [
       "20"
      ]
     },
     "execution_count": 126,
     "metadata": {},
     "output_type": "execute_result"
    }
   ],
   "source": [
    "rf_model.getNumTrees"
   ]
  },
  {
   "cell_type": "code",
   "execution_count": 132,
   "metadata": {
    "collapsed": true
   },
   "outputs": [],
   "source": [
    "model_predictions = rf_model.transform(test)"
   ]
  },
  {
   "cell_type": "code",
   "execution_count": 133,
   "metadata": {},
   "outputs": [
    {
     "name": "stdout",
     "output_type": "stream",
     "text": [
      "+-----+-----+-----+-----+-----+-----+--------------------+-------------------+\n",
      "|var_1|var_2|var_3|var_4|var_5|label|            features|         prediction|\n",
      "+-----+-----+-----+-----+-----+-----+--------------------+-------------------+\n",
      "|  464|  640|   66|0.283| 0.22|0.301|[464.0,640.0,66.0...|0.32620528864346005|\n",
      "|  501|  774|   51|0.285|0.219|0.315|[501.0,774.0,51.0...| 0.3315483384956547|\n",
      "|  533|  660|   62|0.296|0.233| 0.33|[533.0,660.0,62.0...| 0.3279678481672696|\n",
      "|  534|  609|   69|0.304|0.229|0.329|[534.0,609.0,69.0...|0.32849289839181284|\n",
      "|  559|  613|   75|0.293|0.235|0.359|[559.0,613.0,75.0...|0.34431157381674565|\n",
      "|  562|  587|   80|0.308|0.235|0.344|[562.0,587.0,80.0...|0.34633939901939004|\n",
      "|  564|  648|   74|0.294|0.236|0.337|[564.0,648.0,74.0...|0.34660634825283587|\n",
      "|  568|  708|   57|0.311|0.247|0.347|[568.0,708.0,57.0...| 0.3580627405761989|\n",
      "|  569|  544|   82|0.304| 0.24|0.343|[569.0,544.0,82.0...| 0.3489929326622356|\n",
      "|  571|  577|   83|0.298|0.251|0.368|[571.0,577.0,83.0...| 0.3538474256428915|\n",
      "|  573|  656|   75|0.313|0.242|0.345|[573.0,656.0,75.0...|0.35044723951023526|\n",
      "|  574|  556|   85|0.303|0.243|0.368|[574.0,556.0,85.0...|0.35245659207672475|\n",
      "|  575|  680|   68|  0.3|0.241|0.344|[575.0,680.0,68.0...| 0.3508903073912221|\n",
      "|  576|  759|   57|0.313|0.254| 0.35|[576.0,759.0,57.0...| 0.3667486309616494|\n",
      "|  578|  633|   76|0.309|0.249|0.337|[578.0,633.0,76.0...|0.35079976893996123|\n",
      "|  578|  733|   62|0.299|0.231|0.348|[578.0,733.0,62.0...| 0.3466773379187134|\n",
      "|  579|  497|   91|0.304|0.225|0.352|[579.0,497.0,91.0...|0.34216301643346114|\n",
      "|  581|  724|   64|0.314|0.248|0.346|[581.0,724.0,64.0...| 0.3584021380733537|\n",
      "|  582|  791|   52| 0.31| 0.24|0.359|[582.0,791.0,52.0...| 0.3583885211293452|\n",
      "|  584|  680|   63|0.298|0.234| 0.35|[584.0,680.0,63.0...|  0.350146054051407|\n",
      "+-----+-----+-----+-----+-----+-----+--------------------+-------------------+\n",
      "only showing top 20 rows\n",
      "\n"
     ]
    }
   ],
   "source": [
    "model_predictions.show()"
   ]
  },
  {
   "cell_type": "code",
   "execution_count": 135,
   "metadata": {},
   "outputs": [
    {
     "name": "stdout",
     "output_type": "stream",
     "text": [
      "The r-square value of RandomForestRegressor is 0.8215863293044671\n",
      "The rmse value of RandomForestRegressor is 0.01365275410722947\n"
     ]
    }
   ],
   "source": [
    "# Select (prediction, true label) and compute test error\n",
    "# R2 value of the model on test data \n",
    "rf_evaluator = RegressionEvaluator(metricName='r2')\n",
    "rf_r2 = rf_evaluator.evaluate(model_predictions)\n",
    "print(f'The r-square value of RandomForestRegressor is {rf_r2}')\n",
    "\n",
    "# RMSE value of the model on test data \n",
    "rf_evaluator = RegressionEvaluator(metricName='rmse')\n",
    "rf_rmse = rf_evaluator.evaluate(model_predictions)\n",
    "print(f'The rmse value of RandomForestRegressor is {rf_rmse}')\n"
   ]
  },
  {
   "cell_type": "code",
   "execution_count": 375,
   "metadata": {
    "collapsed": true
   },
   "outputs": [],
   "source": [
    "from pyspark.ml.regression import GBTRegressor\n"
   ]
  },
  {
   "cell_type": "code",
   "execution_count": 376,
   "metadata": {
    "collapsed": true
   },
   "outputs": [],
   "source": [
    "gbt = GBTRegressor()"
   ]
  },
  {
   "cell_type": "code",
   "execution_count": 377,
   "metadata": {
    "collapsed": true
   },
   "outputs": [],
   "source": [
    "# Train model.  This also runs the indexer.\n",
    "gbt_model = gbt.fit(train)\n"
   ]
  },
  {
   "cell_type": "code",
   "execution_count": 378,
   "metadata": {},
   "outputs": [
    {
     "data": {
      "text/plain": [
       "SparseVector(5, {0: 0.2632, 1: 0.1731, 2: 0.2107, 3: 0.2369, 4: 0.1161})"
      ]
     },
     "execution_count": 378,
     "metadata": {},
     "output_type": "execute_result"
    }
   ],
   "source": [
    "gbt_model.featureImportances"
   ]
  },
  {
   "cell_type": "code",
   "execution_count": 379,
   "metadata": {
    "collapsed": true
   },
   "outputs": [],
   "source": [
    "model_predictions = gbt_model.transform(test)"
   ]
  },
  {
   "cell_type": "code",
   "execution_count": 380,
   "metadata": {},
   "outputs": [
    {
     "name": "stdout",
     "output_type": "stream",
     "text": [
      "+-----+-----+-----+-----+-----+-----+--------------------+-------------------+\n",
      "|var_1|var_2|var_3|var_4|var_5|label|            features|         prediction|\n",
      "+-----+-----+-----+-----+-----+-----+--------------------+-------------------+\n",
      "|  473|  499|   73|0.281|0.228|0.315|[473.0,499.0,73.0...|0.31944398058332746|\n",
      "|  498|  672|   61|0.288|0.238|0.325|[498.0,672.0,61.0...|0.34408906567588476|\n",
      "|  513|  698|   61|0.298|0.236|0.339|[513.0,698.0,61.0...|0.34431612842121734|\n",
      "|  527|  569|   75|0.297|0.239|0.341|[527.0,569.0,75.0...|0.34117798058332727|\n",
      "|  532|  690|   69|0.303|0.245|0.351|[532.0,690.0,69.0...|0.33924893158758207|\n",
      "|  534|  609|   69|0.304|0.229|0.329|[534.0,609.0,69.0...| 0.3173858203666073|\n",
      "|  536|  531|   83|0.292|0.214|0.318|[536.0,531.0,83.0...|0.32116220648685906|\n",
      "|  541|  830|   60|0.302|0.229| 0.33|[541.0,830.0,60.0...|0.32107791151173165|\n",
      "|  543|  615|   76|0.294|0.233|0.333|[543.0,615.0,76.0...| 0.3191040462701389|\n",
      "|  550|  631|   76|0.306|0.235|0.318|[550.0,631.0,76.0...| 0.3363031821392068|\n",
      "|  550|  789|   54|0.305|0.238|0.359|[550.0,789.0,54.0...|0.34106264054462493|\n",
      "|  557|  659|   71|0.295|0.234|0.355|[557.0,659.0,71.0...| 0.3484122333478269|\n",
      "|  559|  613|   75|0.293|0.235|0.359|[559.0,613.0,75.0...| 0.3493445975338579|\n",
      "|  569|  620|   77|0.302|0.247|0.349|[569.0,620.0,77.0...| 0.3584779456850221|\n",
      "|  569|  711|   65|0.305|0.237| 0.34|[569.0,711.0,65.0...|0.35012490558846804|\n",
      "|  570|  655|   66|0.311|0.246| 0.34|[570.0,655.0,66.0...|0.34654473492263055|\n",
      "|  570|  662|   73| 0.31|0.247|0.337|[570.0,662.0,73.0...| 0.3565935879935122|\n",
      "|  570|  786|   57|0.301|0.249|0.366|[570.0,786.0,57.0...| 0.3512264728004555|\n",
      "|  572|  646|   71|0.311|0.235|0.329|[572.0,646.0,71.0...|0.34847298989434594|\n",
      "|  573|  634|   75|0.308|0.244|0.342|[573.0,634.0,75.0...|0.34833018914621916|\n",
      "+-----+-----+-----+-----+-----+-----+--------------------+-------------------+\n",
      "only showing top 20 rows\n",
      "\n"
     ]
    }
   ],
   "source": [
    "model_predictions.show()"
   ]
  },
  {
   "cell_type": "code",
   "execution_count": 381,
   "metadata": {},
   "outputs": [
    {
     "name": "stdout",
     "output_type": "stream",
     "text": [
      "The r-square value of GradientBoostedRegressor is 0.8477273892307596\n",
      "The rmse value of GradientBoostedRegressor is 0.013305445803592103\n"
     ]
    }
   ],
   "source": [
    " #Select (prediction, true label) and compute test error\n",
    "# R2 value of the model on test data \n",
    "gbt_evaluator = RegressionEvaluator(metricName='r2')\n",
    "gbt_r2 = gbt_evaluator.evaluate(model_predictions)\n",
    "print(f'The r-square value of GradientBoostedRegressor is {gbt_r2}')\n",
    "\n",
    "# RMSE value of the model on test data \n",
    "gbt_evaluator = RegressionEvaluator(metricName='rmse')\n",
    "gbt_rmse = gbt_evaluator.evaluate(model_predictions)\n",
    "print(f'The rmse value of GradientBoostedRegressor is {gbt_rmse}')\n"
   ]
  },
  {
   "cell_type": "markdown",
   "metadata": {},
   "source": [
    " # Classification "
   ]
  },
  {
   "cell_type": "code",
   "execution_count": 382,
   "metadata": {
    "collapsed": true
   },
   "outputs": [],
   "source": [
    "# Load csv Dataset \n",
    "df=spark.read.csv('bank_data.csv',inferSchema=True,header=True)"
   ]
  },
  {
   "cell_type": "code",
   "execution_count": 383,
   "metadata": {},
   "outputs": [
    {
     "data": {
      "text/plain": [
       "41188"
      ]
     },
     "execution_count": 383,
     "metadata": {},
     "output_type": "execute_result"
    }
   ],
   "source": [
    "#number of records\n",
    "df.count()"
   ]
  },
  {
   "cell_type": "code",
   "execution_count": 384,
   "metadata": {},
   "outputs": [
    {
     "data": {
      "text/plain": [
       "['age',\n",
       " 'job',\n",
       " 'marital',\n",
       " 'education',\n",
       " 'default',\n",
       " 'housing',\n",
       " 'loan',\n",
       " 'contact',\n",
       " 'month',\n",
       " 'day_of_week',\n",
       " 'duration',\n",
       " 'campaign',\n",
       " 'pdays',\n",
       " 'previous',\n",
       " 'poutcome',\n",
       " 'emp.var.rate',\n",
       " 'cons.price.idx',\n",
       " 'cons.conf.idx',\n",
       " 'euribor3m',\n",
       " 'nr.employed',\n",
       " 'target_class']"
      ]
     },
     "execution_count": 384,
     "metadata": {},
     "output_type": "execute_result"
    }
   ],
   "source": [
    "df.columns"
   ]
  },
  {
   "cell_type": "code",
   "execution_count": 4,
   "metadata": {},
   "outputs": [
    {
     "name": "stdout",
     "output_type": "stream",
     "text": [
      "root\n",
      " |-- age: integer (nullable = true)\n",
      " |-- job: string (nullable = true)\n",
      " |-- marital: string (nullable = true)\n",
      " |-- education: string (nullable = true)\n",
      " |-- default: string (nullable = true)\n",
      " |-- housing: string (nullable = true)\n",
      " |-- loan: string (nullable = true)\n",
      " |-- contact: string (nullable = true)\n",
      " |-- month: string (nullable = true)\n",
      " |-- day_of_week: string (nullable = true)\n",
      " |-- duration: integer (nullable = true)\n",
      " |-- campaign: integer (nullable = true)\n",
      " |-- pdays: integer (nullable = true)\n",
      " |-- previous: integer (nullable = true)\n",
      " |-- poutcome: string (nullable = true)\n",
      " |-- emp.var.rate: double (nullable = true)\n",
      " |-- cons.price.idx: double (nullable = true)\n",
      " |-- cons.conf.idx: double (nullable = true)\n",
      " |-- euribor3m: double (nullable = true)\n",
      " |-- nr.employed: double (nullable = true)\n",
      " |-- target_class: string (nullable = true)\n",
      "\n"
     ]
    }
   ],
   "source": [
    "#dataype of input data \n",
    "df.printSchema()"
   ]
  },
  {
   "cell_type": "code",
   "execution_count": 7,
   "metadata": {},
   "outputs": [
    {
     "name": "stdout",
     "output_type": "stream",
     "text": [
      "+------------+-----+\n",
      "|target_class|count|\n",
      "+------------+-----+\n",
      "|          no|36548|\n",
      "|         yes| 4640|\n",
      "+------------+-----+\n",
      "\n"
     ]
    }
   ],
   "source": [
    "df.groupBy('target_class').count().show()"
   ]
  },
  {
   "cell_type": "code",
   "execution_count": 395,
   "metadata": {
    "collapsed": true
   },
   "outputs": [],
   "source": [
    "## Sample Data \n",
    "\n",
    "df=spark.read.csv('binary_class.csv',inferSchema=True,header=True)"
   ]
  },
  {
   "cell_type": "code",
   "execution_count": 396,
   "metadata": {},
   "outputs": [
    {
     "data": {
      "text/plain": [
       "9501"
      ]
     },
     "execution_count": 396,
     "metadata": {},
     "output_type": "execute_result"
    }
   ],
   "source": [
    "df.count()"
   ]
  },
  {
   "cell_type": "code",
   "execution_count": 397,
   "metadata": {},
   "outputs": [
    {
     "data": {
      "text/plain": [
       "['age',\n",
       " 'job',\n",
       " 'marital',\n",
       " 'education',\n",
       " 'default',\n",
       " 'housing',\n",
       " 'loan',\n",
       " 'target_class']"
      ]
     },
     "execution_count": 397,
     "metadata": {},
     "output_type": "execute_result"
    }
   ],
   "source": [
    "df.columns"
   ]
  },
  {
   "cell_type": "code",
   "execution_count": 398,
   "metadata": {},
   "outputs": [
    {
     "name": "stdout",
     "output_type": "stream",
     "text": [
      "root\n",
      " |-- age: integer (nullable = true)\n",
      " |-- job: string (nullable = true)\n",
      " |-- marital: string (nullable = true)\n",
      " |-- education: string (nullable = true)\n",
      " |-- default: string (nullable = true)\n",
      " |-- housing: string (nullable = true)\n",
      " |-- loan: string (nullable = true)\n",
      " |-- target_class: string (nullable = true)\n",
      "\n"
     ]
    }
   ],
   "source": [
    "df.printSchema()"
   ]
  },
  {
   "cell_type": "code",
   "execution_count": 399,
   "metadata": {},
   "outputs": [
    {
     "name": "stdout",
     "output_type": "stream",
     "text": [
      "+------------+-----+\n",
      "|target_class|count|\n",
      "+------------+-----+\n",
      "|          no| 4861|\n",
      "|         yes| 4640|\n",
      "+------------+-----+\n",
      "\n"
     ]
    }
   ],
   "source": [
    "df.groupBy('target_class').count().show()"
   ]
  },
  {
   "cell_type": "code",
   "execution_count": 400,
   "metadata": {
    "collapsed": true
   },
   "outputs": [],
   "source": [
    "from pyspark.sql import functions as F\n",
    "from pyspark.sql import *"
   ]
  },
  {
   "cell_type": "code",
   "execution_count": 401,
   "metadata": {
    "collapsed": true
   },
   "outputs": [],
   "source": [
    "df=df.withColumn(\"label\", F.when(df.target_class =='no', F.lit(0)).otherwise(F.lit(1)))"
   ]
  },
  {
   "cell_type": "code",
   "execution_count": 402,
   "metadata": {},
   "outputs": [
    {
     "name": "stdout",
     "output_type": "stream",
     "text": [
      "+-----+-----+\n",
      "|label|count|\n",
      "+-----+-----+\n",
      "|    1| 4640|\n",
      "|    0| 4861|\n",
      "+-----+-----+\n",
      "\n"
     ]
    }
   ],
   "source": [
    "df.groupBy('label').count().show()"
   ]
  },
  {
   "cell_type": "code",
   "execution_count": 403,
   "metadata": {
    "collapsed": true
   },
   "outputs": [],
   "source": [
    "from pyspark.ml.feature import OneHotEncoder, StringIndexer, VectorAssembler\n"
   ]
  },
  {
   "cell_type": "code",
   "execution_count": 404,
   "metadata": {
    "collapsed": true
   },
   "outputs": [],
   "source": [
    "def cat_to_num(df):\n",
    "    \n",
    "    for col in df.columns:\n",
    "        stringIndexer = StringIndexer(inputCol=col, outputCol=col+\"_index\")\n",
    "        model = stringIndexer.fit(df)\n",
    "        indexed = model.transform(df)\n",
    "\n",
    "        encoder = OneHotEncoder(inputCol=col+\"_index\", outputCol=col+\"_vec\")\n",
    "        df = encoder.transform(indexed)\n",
    "    df_assembler = VectorAssembler(inputCols=['age','marital_vec','education_vec','default_vec','housing_vec','loan_vec'], outputCol=\"features\")\n",
    "    df = df_assembler.transform(df)  \n",
    "    return df.select(['features','label'])"
   ]
  },
  {
   "cell_type": "code",
   "execution_count": 405,
   "metadata": {
    "collapsed": true
   },
   "outputs": [],
   "source": [
    "df_new=cat_to_num(df)"
   ]
  },
  {
   "cell_type": "code",
   "execution_count": 406,
   "metadata": {},
   "outputs": [
    {
     "name": "stdout",
     "output_type": "stream",
     "text": [
      "+--------------------+-----+\n",
      "|            features|label|\n",
      "+--------------------+-----+\n",
      "|(16,[0,1,8,11,13,...|    0|\n",
      "|(16,[0,1,5,13,14]...|    0|\n",
      "|(16,[0,1,5,11,12,...|    0|\n",
      "|(16,[0,1,9,11,13,...|    0|\n",
      "|(16,[0,1,5,11,13,...|    0|\n",
      "|(16,[0,1,6,13,14]...|    0|\n",
      "|(16,[0,1,7,11,13,...|    0|\n",
      "|(16,[0,1,10,13,14...|    0|\n",
      "|(16,[0,2,7,11,12,...|    0|\n",
      "|(16,[0,2,5,11,12,...|    0|\n",
      "|(16,[0,1,10,13,14...|    0|\n",
      "|(16,[0,2,5,11,12,...|    0|\n",
      "|(16,[0,2,5,11,13,...|    0|\n",
      "|(16,[0,3,8,11,12,...|    0|\n",
      "|(16,[0,1,9,11,12,...|    0|\n",
      "|(16,[0,1,6,12,15]...|    0|\n",
      "|(16,[0,1,9,11,12,...|    0|\n",
      "|(16,[0,1,9,12,15]...|    0|\n",
      "|(16,[0,1,6,11,12,...|    0|\n",
      "|(16,[0,2,6,13,14]...|    0|\n",
      "+--------------------+-----+\n",
      "only showing top 20 rows\n",
      "\n"
     ]
    }
   ],
   "source": [
    "df_new.show()"
   ]
  },
  {
   "cell_type": "code",
   "execution_count": 407,
   "metadata": {},
   "outputs": [
    {
     "name": "stdout",
     "output_type": "stream",
     "text": [
      "+-----+-----+\n",
      "|label|count|\n",
      "+-----+-----+\n",
      "|    1| 4640|\n",
      "|    0| 4861|\n",
      "+-----+-----+\n",
      "\n"
     ]
    }
   ],
   "source": [
    "df_new.groupBy('label').count().show()"
   ]
  },
  {
   "cell_type": "code",
   "execution_count": 408,
   "metadata": {},
   "outputs": [
    {
     "name": "stdout",
     "output_type": "stream",
     "text": [
      "Size of train Dataset : 7112\n",
      "Size of test Dataset : 2389\n"
     ]
    }
   ],
   "source": [
    "train, test = df_new.randomSplit([0.75, 0.25])\n",
    "print(f\"Size of train Dataset : {train.count()}\" )\n",
    "print(f\"Size of test Dataset : {test.count()}\" )\n"
   ]
  },
  {
   "cell_type": "code",
   "execution_count": 409,
   "metadata": {
    "collapsed": true
   },
   "outputs": [],
   "source": [
    "from pyspark.ml.classification import LogisticRegression\n",
    "lr = LogisticRegression()\n",
    "lr_model = lr.fit(train)"
   ]
  },
  {
   "cell_type": "code",
   "execution_count": 410,
   "metadata": {},
   "outputs": [
    {
     "name": "stdout",
     "output_type": "stream",
     "text": [
      "[0.0273012403206,0.0860736571977,0.934384469874,-0.016522545073,-12.9801090231,-13.469005707,-13.8118640649,-13.3288968418,-13.6023406483,-13.7420942762,-13.2940419118,1.3921700408,0.29133718088,-0.0418899174088,0.248880549172,0.218739541667]\n"
     ]
    }
   ],
   "source": [
    "print(lr_model.coefficients)"
   ]
  },
  {
   "cell_type": "code",
   "execution_count": 411,
   "metadata": {
    "collapsed": true
   },
   "outputs": [],
   "source": [
    "lr_summary=lr_model.summary"
   ]
  },
  {
   "cell_type": "code",
   "execution_count": 412,
   "metadata": {},
   "outputs": [
    {
     "data": {
      "text/plain": [
       "0.6732283464566929"
      ]
     },
     "execution_count": 412,
     "metadata": {},
     "output_type": "execute_result"
    }
   ],
   "source": [
    "lr_summary.accuracy"
   ]
  },
  {
   "cell_type": "code",
   "execution_count": 413,
   "metadata": {},
   "outputs": [
    {
     "data": {
      "text/plain": [
       "0.7161951680555275"
      ]
     },
     "execution_count": 413,
     "metadata": {},
     "output_type": "execute_result"
    }
   ],
   "source": [
    "lr_summary.areaUnderROC"
   ]
  },
  {
   "cell_type": "code",
   "execution_count": 414,
   "metadata": {},
   "outputs": [
    {
     "name": "stdout",
     "output_type": "stream",
     "text": [
      "[0.6948130277442702, 0.6543730242360379]\n"
     ]
    }
   ],
   "source": [
    "\n",
    "print(lr_summary.precisionByLabel)"
   ]
  },
  {
   "cell_type": "code",
   "execution_count": 415,
   "metadata": {},
   "outputs": [
    {
     "name": "stdout",
     "output_type": "stream",
     "text": [
      "+------------------+------------------+\n",
      "|         threshold|         precision|\n",
      "+------------------+------------------+\n",
      "|0.9999990369941395|0.8378378378378378|\n",
      "|0.8220499817791618|0.7647058823529411|\n",
      "|0.7968126369992325|0.7734806629834254|\n",
      "| 0.773470522075655|0.7892857142857143|\n",
      "|0.7612946912751203|0.7645502645502645|\n",
      "|0.7490362058233141|0.7540983606557377|\n",
      "|0.7382521496703287|0.7345132743362832|\n",
      "|0.7279553838380405|0.7336448598130841|\n",
      "|0.7193784940839227|0.7327823691460055|\n",
      "|0.7122887285503471|0.7333333333333333|\n",
      "|0.7047990854701919|0.7276736493936052|\n",
      "|0.6983210316089354|0.7244174265450861|\n",
      "|0.6895039811348334|0.7183226982680037|\n",
      "|0.6828171155434885|0.7237615449202351|\n",
      "|0.6769693285452459|0.7262658227848101|\n",
      "|0.6702627333842052|  0.72619926199262|\n",
      "|0.6639336170490286|0.7254355400696864|\n",
      "|0.6574455562430638|0.7240924092409241|\n",
      "|0.6519155436691656|0.7210327455919395|\n",
      "|0.6462446109735182|0.7204628501827041|\n",
      "+------------------+------------------+\n",
      "only showing top 20 rows\n",
      "\n"
     ]
    }
   ],
   "source": [
    "lr_summary.precisionByThreshold.show()"
   ]
  },
  {
   "cell_type": "code",
   "execution_count": 416,
   "metadata": {},
   "outputs": [
    {
     "data": {
      "text/html": [
       "<div>\n",
       "<table border=\"1\" class=\"dataframe\">\n",
       "  <thead>\n",
       "    <tr style=\"text-align: right;\">\n",
       "      <th></th>\n",
       "      <th>threshold</th>\n",
       "      <th>precision</th>\n",
       "    </tr>\n",
       "  </thead>\n",
       "  <tbody>\n",
       "    <tr>\n",
       "      <th>0</th>\n",
       "      <td>0.999997</td>\n",
       "      <td>0.888889</td>\n",
       "    </tr>\n",
       "    <tr>\n",
       "      <th>1</th>\n",
       "      <td>0.822831</td>\n",
       "      <td>0.758242</td>\n",
       "    </tr>\n",
       "    <tr>\n",
       "      <th>2</th>\n",
       "      <td>0.796765</td>\n",
       "      <td>0.720779</td>\n",
       "    </tr>\n",
       "    <tr>\n",
       "      <th>3</th>\n",
       "      <td>0.781076</td>\n",
       "      <td>0.775362</td>\n",
       "    </tr>\n",
       "    <tr>\n",
       "      <th>4</th>\n",
       "      <td>0.765103</td>\n",
       "      <td>0.765714</td>\n",
       "    </tr>\n",
       "    <tr>\n",
       "      <th>5</th>\n",
       "      <td>0.754244</td>\n",
       "      <td>0.748869</td>\n",
       "    </tr>\n",
       "    <tr>\n",
       "      <th>6</th>\n",
       "      <td>0.744988</td>\n",
       "      <td>0.735010</td>\n",
       "    </tr>\n",
       "    <tr>\n",
       "      <th>7</th>\n",
       "      <td>0.734741</td>\n",
       "      <td>0.730263</td>\n",
       "    </tr>\n",
       "    <tr>\n",
       "      <th>8</th>\n",
       "      <td>0.724762</td>\n",
       "      <td>0.733529</td>\n",
       "    </tr>\n",
       "    <tr>\n",
       "      <th>9</th>\n",
       "      <td>0.715474</td>\n",
       "      <td>0.737047</td>\n",
       "    </tr>\n",
       "    <tr>\n",
       "      <th>10</th>\n",
       "      <td>0.708786</td>\n",
       "      <td>0.719723</td>\n",
       "    </tr>\n",
       "    <tr>\n",
       "      <th>11</th>\n",
       "      <td>0.702597</td>\n",
       "      <td>0.722281</td>\n",
       "    </tr>\n",
       "    <tr>\n",
       "      <th>12</th>\n",
       "      <td>0.695284</td>\n",
       "      <td>0.724568</td>\n",
       "    </tr>\n",
       "    <tr>\n",
       "      <th>13</th>\n",
       "      <td>0.688088</td>\n",
       "      <td>0.722173</td>\n",
       "    </tr>\n",
       "    <tr>\n",
       "      <th>14</th>\n",
       "      <td>0.681117</td>\n",
       "      <td>0.725329</td>\n",
       "    </tr>\n",
       "    <tr>\n",
       "      <th>15</th>\n",
       "      <td>0.674421</td>\n",
       "      <td>0.725155</td>\n",
       "    </tr>\n",
       "    <tr>\n",
       "      <th>16</th>\n",
       "      <td>0.668611</td>\n",
       "      <td>0.720351</td>\n",
       "    </tr>\n",
       "    <tr>\n",
       "      <th>17</th>\n",
       "      <td>0.661924</td>\n",
       "      <td>0.722572</td>\n",
       "    </tr>\n",
       "    <tr>\n",
       "      <th>18</th>\n",
       "      <td>0.656448</td>\n",
       "      <td>0.722892</td>\n",
       "    </tr>\n",
       "    <tr>\n",
       "      <th>19</th>\n",
       "      <td>0.650878</td>\n",
       "      <td>0.723828</td>\n",
       "    </tr>\n",
       "    <tr>\n",
       "      <th>20</th>\n",
       "      <td>0.644870</td>\n",
       "      <td>0.723443</td>\n",
       "    </tr>\n",
       "    <tr>\n",
       "      <th>21</th>\n",
       "      <td>0.639960</td>\n",
       "      <td>0.717709</td>\n",
       "    </tr>\n",
       "    <tr>\n",
       "      <th>22</th>\n",
       "      <td>0.635317</td>\n",
       "      <td>0.714527</td>\n",
       "    </tr>\n",
       "    <tr>\n",
       "      <th>23</th>\n",
       "      <td>0.630246</td>\n",
       "      <td>0.713053</td>\n",
       "    </tr>\n",
       "    <tr>\n",
       "      <th>24</th>\n",
       "      <td>0.623876</td>\n",
       "      <td>0.707946</td>\n",
       "    </tr>\n",
       "    <tr>\n",
       "      <th>25</th>\n",
       "      <td>0.617901</td>\n",
       "      <td>0.706495</td>\n",
       "    </tr>\n",
       "    <tr>\n",
       "      <th>26</th>\n",
       "      <td>0.612636</td>\n",
       "      <td>0.707502</td>\n",
       "    </tr>\n",
       "    <tr>\n",
       "      <th>27</th>\n",
       "      <td>0.606000</td>\n",
       "      <td>0.704753</td>\n",
       "    </tr>\n",
       "    <tr>\n",
       "      <th>28</th>\n",
       "      <td>0.600930</td>\n",
       "      <td>0.701747</td>\n",
       "    </tr>\n",
       "    <tr>\n",
       "      <th>29</th>\n",
       "      <td>0.594389</td>\n",
       "      <td>0.694794</td>\n",
       "    </tr>\n",
       "    <tr>\n",
       "      <th>...</th>\n",
       "      <td>...</td>\n",
       "      <td>...</td>\n",
       "    </tr>\n",
       "    <tr>\n",
       "      <th>72</th>\n",
       "      <td>0.327900</td>\n",
       "      <td>0.558217</td>\n",
       "    </tr>\n",
       "    <tr>\n",
       "      <th>73</th>\n",
       "      <td>0.317414</td>\n",
       "      <td>0.554896</td>\n",
       "    </tr>\n",
       "    <tr>\n",
       "      <th>74</th>\n",
       "      <td>0.310297</td>\n",
       "      <td>0.552522</td>\n",
       "    </tr>\n",
       "    <tr>\n",
       "      <th>75</th>\n",
       "      <td>0.301704</td>\n",
       "      <td>0.550283</td>\n",
       "    </tr>\n",
       "    <tr>\n",
       "      <th>76</th>\n",
       "      <td>0.291484</td>\n",
       "      <td>0.548157</td>\n",
       "    </tr>\n",
       "    <tr>\n",
       "      <th>77</th>\n",
       "      <td>0.284373</td>\n",
       "      <td>0.545623</td>\n",
       "    </tr>\n",
       "    <tr>\n",
       "      <th>78</th>\n",
       "      <td>0.272514</td>\n",
       "      <td>0.543264</td>\n",
       "    </tr>\n",
       "    <tr>\n",
       "      <th>79</th>\n",
       "      <td>0.263907</td>\n",
       "      <td>0.541188</td>\n",
       "    </tr>\n",
       "    <tr>\n",
       "      <th>80</th>\n",
       "      <td>0.255375</td>\n",
       "      <td>0.538664</td>\n",
       "    </tr>\n",
       "    <tr>\n",
       "      <th>81</th>\n",
       "      <td>0.246590</td>\n",
       "      <td>0.536194</td>\n",
       "    </tr>\n",
       "    <tr>\n",
       "      <th>82</th>\n",
       "      <td>0.237072</td>\n",
       "      <td>0.533755</td>\n",
       "    </tr>\n",
       "    <tr>\n",
       "      <th>83</th>\n",
       "      <td>0.228888</td>\n",
       "      <td>0.531527</td>\n",
       "    </tr>\n",
       "    <tr>\n",
       "      <th>84</th>\n",
       "      <td>0.222984</td>\n",
       "      <td>0.528706</td>\n",
       "    </tr>\n",
       "    <tr>\n",
       "      <th>85</th>\n",
       "      <td>0.215858</td>\n",
       "      <td>0.526190</td>\n",
       "    </tr>\n",
       "    <tr>\n",
       "      <th>86</th>\n",
       "      <td>0.208246</td>\n",
       "      <td>0.524283</td>\n",
       "    </tr>\n",
       "    <tr>\n",
       "      <th>87</th>\n",
       "      <td>0.202366</td>\n",
       "      <td>0.521726</td>\n",
       "    </tr>\n",
       "    <tr>\n",
       "      <th>88</th>\n",
       "      <td>0.196637</td>\n",
       "      <td>0.519064</td>\n",
       "    </tr>\n",
       "    <tr>\n",
       "      <th>89</th>\n",
       "      <td>0.189674</td>\n",
       "      <td>0.516238</td>\n",
       "    </tr>\n",
       "    <tr>\n",
       "      <th>90</th>\n",
       "      <td>0.183445</td>\n",
       "      <td>0.513514</td>\n",
       "    </tr>\n",
       "    <tr>\n",
       "      <th>91</th>\n",
       "      <td>0.177102</td>\n",
       "      <td>0.510990</td>\n",
       "    </tr>\n",
       "    <tr>\n",
       "      <th>92</th>\n",
       "      <td>0.171059</td>\n",
       "      <td>0.508041</td>\n",
       "    </tr>\n",
       "    <tr>\n",
       "      <th>93</th>\n",
       "      <td>0.165146</td>\n",
       "      <td>0.505442</td>\n",
       "    </tr>\n",
       "    <tr>\n",
       "      <th>94</th>\n",
       "      <td>0.157890</td>\n",
       "      <td>0.503258</td>\n",
       "    </tr>\n",
       "    <tr>\n",
       "      <th>95</th>\n",
       "      <td>0.152254</td>\n",
       "      <td>0.500367</td>\n",
       "    </tr>\n",
       "    <tr>\n",
       "      <th>96</th>\n",
       "      <td>0.145723</td>\n",
       "      <td>0.497670</td>\n",
       "    </tr>\n",
       "    <tr>\n",
       "      <th>97</th>\n",
       "      <td>0.137731</td>\n",
       "      <td>0.494944</td>\n",
       "    </tr>\n",
       "    <tr>\n",
       "      <th>98</th>\n",
       "      <td>0.130693</td>\n",
       "      <td>0.492640</td>\n",
       "    </tr>\n",
       "    <tr>\n",
       "      <th>99</th>\n",
       "      <td>0.119356</td>\n",
       "      <td>0.490494</td>\n",
       "    </tr>\n",
       "    <tr>\n",
       "      <th>100</th>\n",
       "      <td>0.109876</td>\n",
       "      <td>0.488529</td>\n",
       "    </tr>\n",
       "    <tr>\n",
       "      <th>101</th>\n",
       "      <td>0.093096</td>\n",
       "      <td>0.488134</td>\n",
       "    </tr>\n",
       "  </tbody>\n",
       "</table>\n",
       "<p>102 rows × 2 columns</p>\n",
       "</div>"
      ],
      "text/plain": [
       "     threshold  precision\n",
       "0     0.999997   0.888889\n",
       "1     0.822831   0.758242\n",
       "2     0.796765   0.720779\n",
       "3     0.781076   0.775362\n",
       "4     0.765103   0.765714\n",
       "5     0.754244   0.748869\n",
       "6     0.744988   0.735010\n",
       "7     0.734741   0.730263\n",
       "8     0.724762   0.733529\n",
       "9     0.715474   0.737047\n",
       "10    0.708786   0.719723\n",
       "11    0.702597   0.722281\n",
       "12    0.695284   0.724568\n",
       "13    0.688088   0.722173\n",
       "14    0.681117   0.725329\n",
       "15    0.674421   0.725155\n",
       "16    0.668611   0.720351\n",
       "17    0.661924   0.722572\n",
       "18    0.656448   0.722892\n",
       "19    0.650878   0.723828\n",
       "20    0.644870   0.723443\n",
       "21    0.639960   0.717709\n",
       "22    0.635317   0.714527\n",
       "23    0.630246   0.713053\n",
       "24    0.623876   0.707946\n",
       "25    0.617901   0.706495\n",
       "26    0.612636   0.707502\n",
       "27    0.606000   0.704753\n",
       "28    0.600930   0.701747\n",
       "29    0.594389   0.694794\n",
       "..         ...        ...\n",
       "72    0.327900   0.558217\n",
       "73    0.317414   0.554896\n",
       "74    0.310297   0.552522\n",
       "75    0.301704   0.550283\n",
       "76    0.291484   0.548157\n",
       "77    0.284373   0.545623\n",
       "78    0.272514   0.543264\n",
       "79    0.263907   0.541188\n",
       "80    0.255375   0.538664\n",
       "81    0.246590   0.536194\n",
       "82    0.237072   0.533755\n",
       "83    0.228888   0.531527\n",
       "84    0.222984   0.528706\n",
       "85    0.215858   0.526190\n",
       "86    0.208246   0.524283\n",
       "87    0.202366   0.521726\n",
       "88    0.196637   0.519064\n",
       "89    0.189674   0.516238\n",
       "90    0.183445   0.513514\n",
       "91    0.177102   0.510990\n",
       "92    0.171059   0.508041\n",
       "93    0.165146   0.505442\n",
       "94    0.157890   0.503258\n",
       "95    0.152254   0.500367\n",
       "96    0.145723   0.497670\n",
       "97    0.137731   0.494944\n",
       "98    0.130693   0.492640\n",
       "99    0.119356   0.490494\n",
       "100   0.109876   0.488529\n",
       "101   0.093096   0.488134\n",
       "\n",
       "[102 rows x 2 columns]"
      ]
     },
     "execution_count": 416,
     "metadata": {},
     "output_type": "execute_result"
    }
   ],
   "source": [
    "precision_threshold"
   ]
  },
  {
   "cell_type": "code",
   "execution_count": 417,
   "metadata": {},
   "outputs": [
    {
     "name": "stderr",
     "output_type": "stream",
     "text": [
      "/opt/conda/lib/python3.6/site-packages/matplotlib/axes/_axes.py:545: UserWarning: No labelled objects found. Use label='...' kwarg on individual plots.\n",
      "  warnings.warn(\"No labelled objects found. \"\n"
     ]
    },
    {
     "data": {
      "image/png": "[encoded data removed]",
      "text/plain": [
       "<matplotlib.figure.Figure at 0x7f78195884e0>"
      ]
     },
     "metadata": {},
     "output_type": "display_data"
    }
   ],
   "source": [
    "plt.plot(precision_threshold)\n",
    "plt.legend(loc='upper left')\n",
    "plt.show()"
   ]
  },
  {
   "cell_type": "code",
   "execution_count": 418,
   "metadata": {},
   "outputs": [
    {
     "data": {
      "text/plain": [
       "[0.6371681415929203, 0.7105263157894737]"
      ]
     },
     "execution_count": 418,
     "metadata": {},
     "output_type": "execute_result"
    }
   ],
   "source": [
    "lr_summary.recallByLabel"
   ]
  },
  {
   "cell_type": "code",
   "execution_count": 419,
   "metadata": {},
   "outputs": [
    {
     "name": "stdout",
     "output_type": "stream",
     "text": [
      "+------------------+--------------------+\n",
      "|         threshold|              recall|\n",
      "+------------------+--------------------+\n",
      "|0.9999990369941395|0.008867276887871853|\n",
      "|0.8220499817791618|0.018592677345537757|\n",
      "|0.7968126369992325| 0.04004576659038902|\n",
      "| 0.773470522075655| 0.06321510297482838|\n",
      "|0.7612946912751203| 0.08266590389016018|\n",
      "|0.7490362058233141| 0.10526315789473684|\n",
      "|0.7382521496703287|  0.1187070938215103|\n",
      "|0.7279553838380405|  0.1347254004576659|\n",
      "|0.7193784940839227| 0.15217391304347827|\n",
      "|0.7122887285503471| 0.16990846681922198|\n",
      "|0.7047990854701919| 0.18878718535469108|\n",
      "|0.6983210316089354| 0.20451945080091533|\n",
      "|0.6895039811348334| 0.22540045766590389|\n",
      "|0.6828171155434885|  0.2465675057208238|\n",
      "|0.6769693285452459|  0.2625858123569794|\n",
      "|0.6702627333842052|  0.2814645308924485|\n",
      "|0.6639336170490286| 0.29776887871853547|\n",
      "|0.6574455562430638|  0.3137871853546911|\n",
      "|0.6519155436691656|  0.3275171624713959|\n",
      "|0.6462446109735182|  0.3383867276887872|\n",
      "+------------------+--------------------+\n",
      "only showing top 20 rows\n",
      "\n"
     ]
    }
   ],
   "source": [
    "lr_summary.recallByThreshold.show()"
   ]
  },
  {
   "cell_type": "code",
   "execution_count": 420,
   "metadata": {},
   "outputs": [
    {
     "data": {
      "text/plain": [
       "0.6732283464566929"
      ]
     },
     "execution_count": 420,
     "metadata": {},
     "output_type": "execute_result"
    }
   ],
   "source": [
    "lr_summary.weightedRecall"
   ]
  },
  {
   "cell_type": "code",
   "execution_count": 421,
   "metadata": {},
   "outputs": [
    {
     "data": {
      "text/plain": [
       "0.6749341958735193"
      ]
     },
     "execution_count": 421,
     "metadata": {},
     "output_type": "execute_result"
    }
   ],
   "source": [
    "lr_summary.weightedPrecision"
   ]
  },
  {
   "cell_type": "code",
   "execution_count": 422,
   "metadata": {},
   "outputs": [
    {
     "name": "stdout",
     "output_type": "stream",
     "text": [
      "+--------------------+--------------------+\n",
      "|                 FPR|                 TPR|\n",
      "+--------------------+--------------------+\n",
      "|                 0.0|                 0.0|\n",
      "| 0.00165929203539823|0.008867276887871853|\n",
      "|0.005530973451327...|0.018592677345537757|\n",
      "| 0.01133849557522124| 0.04004576659038902|\n",
      "| 0.01631637168141593| 0.06321510297482838|\n",
      "| 0.02461283185840708| 0.08266590389016018|\n",
      "|0.033185840707964605| 0.10526315789473684|\n",
      "|0.041482300884955754|  0.1187070938215103|\n",
      "|0.047289823008849555|  0.1347254004576659|\n",
      "|0.053650442477876106| 0.15217391304347827|\n",
      "|0.059734513274336286| 0.16990846681922198|\n",
      "| 0.06830752212389381| 0.18878718535469108|\n",
      "|  0.0752212389380531| 0.20451945080091533|\n",
      "| 0.08545353982300885| 0.22540045766590389|\n",
      "| 0.09098451327433628|  0.2465675057208238|\n",
      "|  0.0956858407079646|  0.2625858123569794|\n",
      "|  0.1025995575221239|  0.2814645308924485|\n",
      "| 0.10896017699115045| 0.29776887871853547|\n",
      "| 0.11559734513274336|  0.3137871853546911|\n",
      "| 0.12251106194690266|  0.3275171624713959|\n",
      "+--------------------+--------------------+\n",
      "only showing top 20 rows\n",
      "\n"
     ]
    }
   ],
   "source": [
    "lr_summary.roc.show()"
   ]
  },
  {
   "cell_type": "code",
   "execution_count": 423,
   "metadata": {},
   "outputs": [
    {
     "name": "stdout",
     "output_type": "stream",
     "text": [
      "+--------------------+------------------+\n",
      "|              recall|         precision|\n",
      "+--------------------+------------------+\n",
      "|                 0.0|0.8378378378378378|\n",
      "|0.008867276887871853|0.8378378378378378|\n",
      "|0.018592677345537757|0.7647058823529411|\n",
      "| 0.04004576659038902|0.7734806629834254|\n",
      "| 0.06321510297482838|0.7892857142857143|\n",
      "| 0.08266590389016018|0.7645502645502645|\n",
      "| 0.10526315789473684|0.7540983606557377|\n",
      "|  0.1187070938215103|0.7345132743362832|\n",
      "|  0.1347254004576659|0.7336448598130841|\n",
      "| 0.15217391304347827|0.7327823691460055|\n",
      "| 0.16990846681922198|0.7333333333333333|\n",
      "| 0.18878718535469108|0.7276736493936052|\n",
      "| 0.20451945080091533|0.7244174265450861|\n",
      "| 0.22540045766590389|0.7183226982680037|\n",
      "|  0.2465675057208238|0.7237615449202351|\n",
      "|  0.2625858123569794|0.7262658227848101|\n",
      "|  0.2814645308924485|  0.72619926199262|\n",
      "| 0.29776887871853547|0.7254355400696864|\n",
      "|  0.3137871853546911|0.7240924092409241|\n",
      "|  0.3275171624713959|0.7210327455919395|\n",
      "+--------------------+------------------+\n",
      "only showing top 20 rows\n",
      "\n"
     ]
    }
   ],
   "source": [
    "lr_summary.pr.show()"
   ]
  },
  {
   "cell_type": "code",
   "execution_count": 424,
   "metadata": {},
   "outputs": [
    {
     "data": {
      "image/png": "[encoded data removed]",
      "text/plain": [
       "<matplotlib.figure.Figure at 0x7f781e53f0f0>"
      ]
     },
     "metadata": {},
     "output_type": "display_data"
    }
   ],
   "source": [
    "import matplotlib.pyplot as plt\n",
    "import numpy as np\n",
    "beta = np.sort(lrModel.coefficients)\n",
    "plt.plot(beta)\n",
    "plt.ylabel('Beta Coefficients')\n",
    "plt.show()\n",
    "plt.show()"
   ]
  },
  {
   "cell_type": "code",
   "execution_count": 425,
   "metadata": {},
   "outputs": [
    {
     "ename": "AttributeError",
     "evalue": "'LinearRegressionTrainingSummary' object has no attribute 'roc'",
     "output_type": "error",
     "traceback": [
      "\u001b[0;31m---------------------------------------------------------------------------\u001b[0m",
      "\u001b[0;31mAttributeError\u001b[0m                            Traceback (most recent call last)",
      "\u001b[0;32m<ipython-input-425-99c9c7551146>\u001b[0m in \u001b[0;36m<module>\u001b[0;34m()\u001b[0m\n\u001b[1;32m      1\u001b[0m \u001b[0mtrainingSummary\u001b[0m \u001b[0;34m=\u001b[0m \u001b[0mlrModel\u001b[0m\u001b[0;34m.\u001b[0m\u001b[0msummary\u001b[0m\u001b[0;34m\u001b[0m\u001b[0m\n\u001b[0;32m----> 2\u001b[0;31m \u001b[0mroc\u001b[0m \u001b[0;34m=\u001b[0m \u001b[0mtrainingSummary\u001b[0m\u001b[0;34m.\u001b[0m\u001b[0mroc\u001b[0m\u001b[0;34m.\u001b[0m\u001b[0mtoPandas\u001b[0m\u001b[0;34m(\u001b[0m\u001b[0;34m)\u001b[0m\u001b[0;34m\u001b[0m\u001b[0m\n\u001b[0m\u001b[1;32m      3\u001b[0m \u001b[0mplt\u001b[0m\u001b[0;34m.\u001b[0m\u001b[0mplot\u001b[0m\u001b[0;34m(\u001b[0m\u001b[0mroc\u001b[0m\u001b[0;34m[\u001b[0m\u001b[0;34m'FPR'\u001b[0m\u001b[0;34m]\u001b[0m\u001b[0;34m,\u001b[0m\u001b[0mroc\u001b[0m\u001b[0;34m[\u001b[0m\u001b[0;34m'TPR'\u001b[0m\u001b[0;34m]\u001b[0m\u001b[0;34m)\u001b[0m\u001b[0;34m\u001b[0m\u001b[0m\n\u001b[1;32m      4\u001b[0m \u001b[0mplt\u001b[0m\u001b[0;34m.\u001b[0m\u001b[0mylabel\u001b[0m\u001b[0;34m(\u001b[0m\u001b[0;34m'False Positive Rate'\u001b[0m\u001b[0;34m)\u001b[0m\u001b[0;34m\u001b[0m\u001b[0m\n\u001b[1;32m      5\u001b[0m \u001b[0mplt\u001b[0m\u001b[0;34m.\u001b[0m\u001b[0mxlabel\u001b[0m\u001b[0;34m(\u001b[0m\u001b[0;34m'True Positive Rate'\u001b[0m\u001b[0;34m)\u001b[0m\u001b[0;34m\u001b[0m\u001b[0m\n",
      "\u001b[0;31mAttributeError\u001b[0m: 'LinearRegressionTrainingSummary' object has no attribute 'roc'"
     ]
    }
   ],
   "source": [
    "trainingSummary = lrModel.summary\n",
    "roc = trainingSummary.roc.toPandas()\n",
    "plt.plot(roc['FPR'],roc['TPR'])\n",
    "plt.ylabel('False Positive Rate')\n",
    "plt.xlabel('True Positive Rate')\n",
    "plt.title('ROC Curve')\n",
    "plt.show()\n",
    "print('Training set areaUnderROC: ' + str(trainingSummary.areaUnderROC))"
   ]
  },
  {
   "cell_type": "code",
   "execution_count": null,
   "metadata": {
    "collapsed": true
   },
   "outputs": [],
   "source": [
    "pr = trainingSummary.pr.toPandas()\n",
    "plt.plot(pr['recall'],pr['precision'])\n",
    "plt.ylabel('Precision')\n",
    "plt.xlabel('Recall')\n",
    "plt.show()"
   ]
  },
  {
   "cell_type": "code",
   "execution_count": null,
   "metadata": {
    "collapsed": true
   },
   "outputs": [],
   "source": [
    "predictions = lrModel.transform(test)\n",
    "predictions.select('label', 'rawPrediction', 'prediction', 'probability').show(10)\n"
   ]
  },
  {
   "cell_type": "markdown",
   "metadata": {},
   "source": [
    "Test Data Evaluation "
   ]
  },
  {
   "cell_type": "code",
   "execution_count": 426,
   "metadata": {},
   "outputs": [
    {
     "data": {
      "text/plain": [
       "['features', 'label', 'rawPrediction', 'probability', 'prediction']"
      ]
     },
     "execution_count": 426,
     "metadata": {},
     "output_type": "execute_result"
    }
   ],
   "source": [
    "model_predictions = lr_model.transform(test)\n",
    "model_predictions.columns\n"
   ]
  },
  {
   "cell_type": "code",
   "execution_count": 206,
   "metadata": {},
   "outputs": [
    {
     "name": "stdout",
     "output_type": "stream",
     "text": [
      "+-----+----------------------------------------+----------+\n",
      "|label|probability                             |prediction|\n",
      "+-----+----------------------------------------+----------+\n",
      "|1    |[0.7921142321252156,0.2078857678747844] |0.0       |\n",
      "|0    |[0.7332732992042076,0.2667267007957924] |0.0       |\n",
      "|0    |[0.7058440774094991,0.294155922590501]  |0.0       |\n",
      "|0    |[0.5801868096061101,0.41981319039388987]|0.0       |\n",
      "|1    |[0.5735471647731092,0.42645283522689076]|0.0       |\n",
      "|1    |[0.5601903397477959,0.4398096602522042] |0.0       |\n",
      "|0    |[0.5332326656582489,0.46676733434175105]|0.0       |\n",
      "|1    |[0.5332326656582489,0.46676733434175105]|0.0       |\n",
      "|1    |[0.5196706190017784,0.48032938099822164]|0.0       |\n",
      "|1    |[0.4585716734035034,0.5414283265964965] |1.0       |\n",
      "+-----+----------------------------------------+----------+\n",
      "only showing top 10 rows\n",
      "\n"
     ]
    }
   ],
   "source": [
    "model_predictions.select(['label','probability','prediction']).show(10,False)"
   ]
  },
  {
   "cell_type": "code",
   "execution_count": 427,
   "metadata": {
    "collapsed": true
   },
   "outputs": [],
   "source": [
    "model_predictions = lr_model.evaluate(test)\n"
   ]
  },
  {
   "cell_type": "code",
   "execution_count": 428,
   "metadata": {},
   "outputs": [
    {
     "data": {
      "text/plain": [
       "0.6592716617831729"
      ]
     },
     "execution_count": 428,
     "metadata": {},
     "output_type": "execute_result"
    }
   ],
   "source": [
    "model_predictions.accuracy"
   ]
  },
  {
   "cell_type": "code",
   "execution_count": 429,
   "metadata": {},
   "outputs": [
    {
     "data": {
      "text/plain": [
       "0.6627412414584508"
      ]
     },
     "execution_count": 429,
     "metadata": {},
     "output_type": "execute_result"
    }
   ],
   "source": [
    "model_predictions.weightedPrecision"
   ]
  },
  {
   "cell_type": "code",
   "execution_count": 430,
   "metadata": {},
   "outputs": [
    {
     "data": {
      "text/plain": [
       "0.6592716617831729"
      ]
     },
     "execution_count": 430,
     "metadata": {},
     "output_type": "execute_result"
    }
   ],
   "source": [
    "model_predictions.weightedRecall"
   ]
  },
  {
   "cell_type": "code",
   "execution_count": 431,
   "metadata": {},
   "outputs": [
    {
     "data": {
      "text/plain": [
       "[0.6208835341365462, 0.701048951048951]"
      ]
     },
     "execution_count": 431,
     "metadata": {},
     "output_type": "execute_result"
    }
   ],
   "source": [
    "model_predictions.recallByLabel()"
   ]
  },
  {
   "cell_type": "code",
   "execution_count": 207,
   "metadata": {
    "collapsed": true
   },
   "outputs": [],
   "source": [
    "from pyspark.ml.evaluation import BinaryClassificationEvaluator"
   ]
  },
  {
   "cell_type": "code",
   "execution_count": 235,
   "metadata": {},
   "outputs": [
    {
     "name": "stdout",
     "output_type": "stream",
     "text": [
      "The auc value of Logistic Regression Model is 0.7092938229110143\n",
      "The aupr value of Logistic Regression Model is 0.6630743130940658\n"
     ]
    }
   ],
   "source": [
    "# RMSE value of the model on test data \n",
    "lr_evaluator = BinaryClassificationEvaluator(metricName='areaUnderROC')\n",
    "lr_auroc = lr_evaluator.evaluate(model_predictions)\n",
    "print(f'The auc value of Logistic Regression Model is {lr_auroc}')\n",
    "\n",
    "\n",
    "# RMSE value of the model on test data \n",
    "lr_evaluator = BinaryClassificationEvaluator(metricName='areaUnderPR')\n",
    "lr_aupr = lr_evaluator.evaluate(model_predictions)\n",
    "print(f'The aupr value of Logistic Regression Model is {lr_aupr}')\n"
   ]
  },
  {
   "cell_type": "code",
   "execution_count": 236,
   "metadata": {
    "collapsed": true
   },
   "outputs": [],
   "source": [
    "true_pos=model_predictions.filter(model_predictions['label']==1).filter(model_predictions['prediction']==1).count()"
   ]
  },
  {
   "cell_type": "code",
   "execution_count": 237,
   "metadata": {
    "collapsed": true
   },
   "outputs": [],
   "source": [
    "actual_pos=model_predictions.filter(model_predictions['label']==1).count()"
   ]
  },
  {
   "cell_type": "code",
   "execution_count": 238,
   "metadata": {},
   "outputs": [
    {
     "data": {
      "text/plain": [
       "0.6701030927835051"
      ]
     },
     "execution_count": 238,
     "metadata": {},
     "output_type": "execute_result"
    }
   ],
   "source": [
    "#Recall \n",
    "float(true_pos)/(actual_pos)"
   ]
  },
  {
   "cell_type": "code",
   "execution_count": 239,
   "metadata": {
    "collapsed": true
   },
   "outputs": [],
   "source": [
    "pred_pos=model_predictions.filter(model_predictions['prediction']==1).count()"
   ]
  },
  {
   "cell_type": "code",
   "execution_count": 240,
   "metadata": {},
   "outputs": [
    {
     "data": {
      "text/plain": [
       "0.6478405315614618"
      ]
     },
     "execution_count": 240,
     "metadata": {},
     "output_type": "execute_result"
    }
   ],
   "source": [
    "#Precision\n",
    "float(true_pos)/(pred_pos)"
   ]
  },
  {
   "cell_type": "code",
   "execution_count": 241,
   "metadata": {
    "collapsed": true
   },
   "outputs": [],
   "source": [
    "from pyspark.ml.classification import DecisionTreeClassifier\n",
    "dt = DecisionTreeClassifier()\n",
    "dt_model = dt.fit(train)\n"
   ]
  },
  {
   "cell_type": "code",
   "execution_count": 242,
   "metadata": {
    "collapsed": true
   },
   "outputs": [],
   "source": [
    "model_predictions = dt_model.transform(test)\n"
   ]
  },
  {
   "cell_type": "code",
   "execution_count": 243,
   "metadata": {},
   "outputs": [
    {
     "name": "stdout",
     "output_type": "stream",
     "text": [
      "+-----+----------------------------------------+----------+\n",
      "|label|probability                             |prediction|\n",
      "+-----+----------------------------------------+----------+\n",
      "|1    |[0.8089887640449438,0.19101123595505617]|0.0       |\n",
      "|0    |[0.8089887640449438,0.19101123595505617]|0.0       |\n",
      "|0    |[0.8089887640449438,0.19101123595505617]|0.0       |\n",
      "|0    |[0.3055555555555556,0.6944444444444444] |1.0       |\n",
      "|1    |[0.3055555555555556,0.6944444444444444] |1.0       |\n",
      "|1    |[0.3055555555555556,0.6944444444444444] |1.0       |\n",
      "|0    |[0.42972350230414746,0.5702764976958525]|1.0       |\n",
      "|1    |[0.42972350230414746,0.5702764976958525]|1.0       |\n",
      "|1    |[0.42972350230414746,0.5702764976958525]|1.0       |\n",
      "|1    |[0.42972350230414746,0.5702764976958525]|1.0       |\n",
      "+-----+----------------------------------------+----------+\n",
      "only showing top 10 rows\n",
      "\n"
     ]
    }
   ],
   "source": [
    "model_predictions.select(['label','probability','prediction']).show(10,False)"
   ]
  },
  {
   "cell_type": "code",
   "execution_count": 244,
   "metadata": {},
   "outputs": [
    {
     "name": "stdout",
     "output_type": "stream",
     "text": [
      "The auc value of Decision Tree Classifier Model is 0.516199386190993\n",
      "The aupr value of Logistic Regression Model is 0.46771834172588167\n"
     ]
    }
   ],
   "source": [
    "# RMSE value of the model on test data \n",
    "dt_evaluator = BinaryClassificationEvaluator(metricName='areaUnderROC')\n",
    "dt_auroc = dt_evaluator.evaluate(model_predictions)\n",
    "print(f'The auc value of Decision Tree Classifier Model is {dt_auroc}')\n",
    "\n",
    "\n",
    "# RMSE value of the model on test data \n",
    "dt_evaluator = BinaryClassificationEvaluator(metricName='areaUnderPR')\n",
    "dt_aupr = dt_evaluator.evaluate(model_predictions)\n",
    "print(f'The aupr value of Logistic Regression Model is {dt_aupr}')\n"
   ]
  },
  {
   "cell_type": "code",
   "execution_count": 245,
   "metadata": {
    "collapsed": true
   },
   "outputs": [],
   "source": [
    "true_pos=model_predictions.filter(model_predictions['label']==1).filter(model_predictions['prediction']==1).count()\n"
   ]
  },
  {
   "cell_type": "code",
   "execution_count": 246,
   "metadata": {
    "collapsed": true
   },
   "outputs": [],
   "source": [
    "actual_pos=model_predictions.filter(model_predictions['label']==1).count()"
   ]
  },
  {
   "cell_type": "code",
   "execution_count": 247,
   "metadata": {
    "collapsed": true
   },
   "outputs": [],
   "source": [
    "pred_pos=model_predictions.filter(model_predictions['prediction']==1).count()"
   ]
  },
  {
   "cell_type": "code",
   "execution_count": 248,
   "metadata": {},
   "outputs": [
    {
     "data": {
      "text/plain": [
       "0.6907216494845361"
      ]
     },
     "execution_count": 248,
     "metadata": {},
     "output_type": "execute_result"
    }
   ],
   "source": [
    "#Recall \n",
    "float(true_pos)/(actual_pos)"
   ]
  },
  {
   "cell_type": "code",
   "execution_count": 249,
   "metadata": {},
   "outputs": [
    {
     "data": {
      "text/plain": [
       "0.6661143330571665"
      ]
     },
     "execution_count": 249,
     "metadata": {},
     "output_type": "execute_result"
    }
   ],
   "source": [
    "#Precision on test Data \n",
    "float(true_pos)/(pred_pos)"
   ]
  },
  {
   "cell_type": "code",
   "execution_count": 267,
   "metadata": {
    "collapsed": true
   },
   "outputs": [],
   "source": [
    "## RF \n",
    "\n",
    "from pyspark.ml.classification import RandomForestClassifier\n",
    "rf = RandomForestClassifier(numTrees=50,maxDepth=30)\n",
    "rf_model = rf.fit(train)\n"
   ]
  },
  {
   "cell_type": "code",
   "execution_count": 268,
   "metadata": {
    "collapsed": true
   },
   "outputs": [],
   "source": [
    "model_predictions = rf_model.transform(test)\n"
   ]
  },
  {
   "cell_type": "code",
   "execution_count": 269,
   "metadata": {},
   "outputs": [
    {
     "name": "stdout",
     "output_type": "stream",
     "text": [
      "+-----+----------------------------------------+----------+\n",
      "|label|probability                             |prediction|\n",
      "+-----+----------------------------------------+----------+\n",
      "|1    |[0.7791249643670785,0.2208750356329216] |0.0       |\n",
      "|0    |[0.7950008034402859,0.20499919655971408]|0.0       |\n",
      "|0    |[0.7753367882511633,0.22466321174883672]|0.0       |\n",
      "|0    |[0.4400825365852292,0.5599174634147708] |1.0       |\n",
      "|1    |[0.50177151730653,0.49822848269347]     |0.0       |\n",
      "|1    |[0.489823569376324,0.510176430623676]   |1.0       |\n",
      "|0    |[0.48614770456597733,0.5138522954340227]|1.0       |\n",
      "|1    |[0.48614770456597733,0.5138522954340227]|1.0       |\n",
      "|1    |[0.46395073486900773,0.5360492651309924]|1.0       |\n",
      "|1    |[0.46459640878219743,0.5354035912178025]|1.0       |\n",
      "+-----+----------------------------------------+----------+\n",
      "only showing top 10 rows\n",
      "\n"
     ]
    }
   ],
   "source": [
    "model_predictions.select(['label','probability','prediction']).show(10,False)"
   ]
  },
  {
   "cell_type": "code",
   "execution_count": 270,
   "metadata": {},
   "outputs": [
    {
     "name": "stdout",
     "output_type": "stream",
     "text": [
      "The auc value of RandomForestClassifier Model is 0.7326433634020617\n"
     ]
    }
   ],
   "source": [
    "rf_evaluator = BinaryClassificationEvaluator(metricName='areaUnderROC')\n",
    "rf_auroc = rf_evaluator.evaluate(model_predictions)\n",
    "print(f'The auc value of RandomForestClassifier Model is {rf_auroc}')\n",
    "\n"
   ]
  },
  {
   "cell_type": "code",
   "execution_count": 271,
   "metadata": {},
   "outputs": [
    {
     "name": "stdout",
     "output_type": "stream",
     "text": [
      "The aupr value of RandomForestClassifier Model is 0.7277253895494864\n"
     ]
    }
   ],
   "source": [
    "rf_evaluator = BinaryClassificationEvaluator(metricName='areaUnderPR')\n",
    "rf_aupr = rf_evaluator.evaluate(model_predictions)\n",
    "print(f'The aupr value of RandomForestClassifier Model is {rf_aupr}')\n"
   ]
  },
  {
   "cell_type": "code",
   "execution_count": 272,
   "metadata": {
    "collapsed": true
   },
   "outputs": [],
   "source": [
    "true_pos=model_predictions.filter(model_predictions['label']==1).filter(model_predictions['prediction']==1).count()\n",
    "actual_pos=model_predictions.filter(model_predictions['label']==1).count()\n",
    "pred_pos=model_predictions.filter(model_predictions['prediction']==1).count()"
   ]
  },
  {
   "cell_type": "code",
   "execution_count": 273,
   "metadata": {},
   "outputs": [
    {
     "data": {
      "text/plain": [
       "0.6666666666666666"
      ]
     },
     "execution_count": 273,
     "metadata": {},
     "output_type": "execute_result"
    }
   ],
   "source": [
    "#Recall \n",
    "float(true_pos)/(actual_pos)"
   ]
  },
  {
   "cell_type": "code",
   "execution_count": 274,
   "metadata": {},
   "outputs": [
    {
     "data": {
      "text/plain": [
       "0.6672398968185727"
      ]
     },
     "execution_count": 274,
     "metadata": {},
     "output_type": "execute_result"
    }
   ],
   "source": [
    "#Precision on test Data \n",
    "float(true_pos)/(pred_pos)"
   ]
  },
  {
   "cell_type": "code",
   "execution_count": 276,
   "metadata": {
    "collapsed": true
   },
   "outputs": [],
   "source": [
    "from pyspark.ml.classification import GBTClassifier\n",
    "gbt = GBTClassifier()\n",
    "gbt_model = gbt.fit(train)\n",
    "model_predictions = gbt_model.transform(test)\n"
   ]
  },
  {
   "cell_type": "code",
   "execution_count": 277,
   "metadata": {},
   "outputs": [
    {
     "name": "stdout",
     "output_type": "stream",
     "text": [
      "+-----+----------------------------------------+----------+\n",
      "|label|probability                             |prediction|\n",
      "+-----+----------------------------------------+----------+\n",
      "|1    |[0.8118906324166552,0.18810936758334484]|0.0       |\n",
      "|0    |[0.8045448087863976,0.19545519121360244]|0.0       |\n",
      "|0    |[0.7451850305979334,0.2548149694020666] |0.0       |\n",
      "|0    |[0.30631795902192194,0.6936820409780781]|1.0       |\n",
      "|1    |[0.31352609339453574,0.6864739066054643]|1.0       |\n",
      "|1    |[0.3281403432684641,0.6718596567315359] |1.0       |\n",
      "|0    |[0.5130658281231842,0.48693417187681576]|0.0       |\n",
      "|1    |[0.5130658281231842,0.48693417187681576]|0.0       |\n",
      "|1    |[0.48461420867158717,0.5153857913284128]|1.0       |\n",
      "|1    |[0.4717208467161091,0.5282791532838909] |1.0       |\n",
      "+-----+----------------------------------------+----------+\n",
      "only showing top 10 rows\n",
      "\n"
     ]
    }
   ],
   "source": [
    "model_predictions.select(['label','probability','prediction']).show(10,False)"
   ]
  },
  {
   "cell_type": "code",
   "execution_count": 278,
   "metadata": {},
   "outputs": [
    {
     "name": "stdout",
     "output_type": "stream",
     "text": [
      "The auc value of GradientBoostedTreesClassifier  is 0.7392410330756018\n"
     ]
    }
   ],
   "source": [
    "gbt_evaluator = BinaryClassificationEvaluator(metricName='areaUnderROC')\n",
    "gbt_auroc = gbt_evaluator.evaluate(model_predictions)\n",
    "print(f'The auc value of GradientBoostedTreesClassifier  is {gbt_auroc}')\n",
    "\n"
   ]
  },
  {
   "cell_type": "code",
   "execution_count": 279,
   "metadata": {},
   "outputs": [
    {
     "name": "stdout",
     "output_type": "stream",
     "text": [
      "The aupr value of GradientBoostedTreesClassifier Model is 0.7345982892755392\n"
     ]
    }
   ],
   "source": [
    "gbt_evaluator = BinaryClassificationEvaluator(metricName='areaUnderPR')\n",
    "gbt_aupr = gbt_evaluator.evaluate(model_predictions)\n",
    "print(f'The aupr value of GradientBoostedTreesClassifier Model is {gbt_aupr}')\n"
   ]
  },
  {
   "cell_type": "code",
   "execution_count": 280,
   "metadata": {
    "collapsed": true
   },
   "outputs": [],
   "source": [
    "true_pos=model_predictions.filter(model_predictions['label']==1).filter(model_predictions['prediction']==1).count()\n",
    "actual_pos=model_predictions.filter(model_predictions['label']==1).count()\n",
    "pred_pos=model_predictions.filter(model_predictions['prediction']==1).count()"
   ]
  },
  {
   "cell_type": "code",
   "execution_count": 281,
   "metadata": {},
   "outputs": [
    {
     "data": {
      "text/plain": [
       "0.6683848797250859"
      ]
     },
     "execution_count": 281,
     "metadata": {},
     "output_type": "execute_result"
    }
   ],
   "source": [
    "float(true_pos)/(actual_pos)"
   ]
  },
  {
   "cell_type": "code",
   "execution_count": 282,
   "metadata": {},
   "outputs": [
    {
     "data": {
      "text/plain": [
       "0.6747614917606245"
      ]
     },
     "execution_count": 282,
     "metadata": {},
     "output_type": "execute_result"
    }
   ],
   "source": [
    "float(true_pos)/(pred_pos)"
   ]
  },
  {
   "cell_type": "code",
   "execution_count": 284,
   "metadata": {
    "collapsed": true
   },
   "outputs": [],
   "source": [
    "from pyspark.ml.classification import LinearSVC"
   ]
  },
  {
   "cell_type": "code",
   "execution_count": 287,
   "metadata": {
    "collapsed": true
   },
   "outputs": [],
   "source": [
    "lsvc = LinearSVC()\n",
    "# Fit the model\n",
    "lsvc_model = lsvc.fit(train)\n",
    "model_predictions = lsvc_model.transform(test)"
   ]
  },
  {
   "cell_type": "code",
   "execution_count": 288,
   "metadata": {},
   "outputs": [
    {
     "data": {
      "text/plain": [
       "['features', 'label', 'rawPrediction', 'prediction']"
      ]
     },
     "execution_count": 288,
     "metadata": {},
     "output_type": "execute_result"
    }
   ],
   "source": [
    "model_predictions.columns"
   ]
  },
  {
   "cell_type": "code",
   "execution_count": 289,
   "metadata": {},
   "outputs": [
    {
     "name": "stdout",
     "output_type": "stream",
     "text": [
      "+-----+----------+\n",
      "|label|prediction|\n",
      "+-----+----------+\n",
      "|1    |0.0       |\n",
      "|0    |0.0       |\n",
      "|0    |0.0       |\n",
      "|0    |1.0       |\n",
      "|1    |1.0       |\n",
      "|1    |1.0       |\n",
      "|0    |1.0       |\n",
      "|1    |1.0       |\n",
      "|1    |1.0       |\n",
      "|1    |1.0       |\n",
      "+-----+----------+\n",
      "only showing top 10 rows\n",
      "\n"
     ]
    }
   ],
   "source": [
    "model_predictions.select(['label','prediction']).show(10,False)"
   ]
  },
  {
   "cell_type": "code",
   "execution_count": 290,
   "metadata": {},
   "outputs": [
    {
     "name": "stdout",
     "output_type": "stream",
     "text": [
      "The auc value of SupportVectorClassifier  is 0.7043772749366973\n"
     ]
    }
   ],
   "source": [
    "svc_evaluator = BinaryClassificationEvaluator(metricName='areaUnderROC')\n",
    "svc_auroc = svc_evaluator.evaluate(model_predictions)\n",
    "print(f'The auc value of SupportVectorClassifier  is {svc_auroc}')\n",
    "\n"
   ]
  },
  {
   "cell_type": "code",
   "execution_count": 291,
   "metadata": {},
   "outputs": [
    {
     "name": "stdout",
     "output_type": "stream",
     "text": [
      "The aupr value of GradientBoostedTreesClassifier Model is 0.6567277377856992\n"
     ]
    }
   ],
   "source": [
    "svc_evaluator = BinaryClassificationEvaluator(metricName='areaUnderPR')\n",
    "svc_aupr =svc_evaluator.evaluate(model_predictions)\n",
    "print(f'The aupr value of GradientBoostedTreesClassifier Model is {svc_aupr}')\n"
   ]
  },
  {
   "cell_type": "code",
   "execution_count": 292,
   "metadata": {
    "collapsed": true
   },
   "outputs": [],
   "source": [
    "true_pos=model_predictions.filter(model_predictions['label']==1).filter(model_predictions['prediction']==1).count()\n",
    "actual_pos=model_predictions.filter(model_predictions['label']==1).count()\n",
    "pred_pos=model_predictions.filter(model_predictions['prediction']==1).count()"
   ]
  },
  {
   "cell_type": "code",
   "execution_count": 293,
   "metadata": {},
   "outputs": [
    {
     "data": {
      "text/plain": [
       "0.7774914089347079"
      ]
     },
     "execution_count": 293,
     "metadata": {},
     "output_type": "execute_result"
    }
   ],
   "source": [
    "float(true_pos)/(actual_pos)"
   ]
  },
  {
   "cell_type": "code",
   "execution_count": 294,
   "metadata": {},
   "outputs": [
    {
     "data": {
      "text/plain": [
       "0.600132625994695"
      ]
     },
     "execution_count": 294,
     "metadata": {},
     "output_type": "execute_result"
    }
   ],
   "source": [
    "float(true_pos)/(pred_pos)"
   ]
  },
  {
   "cell_type": "code",
   "execution_count": 296,
   "metadata": {
    "collapsed": true
   },
   "outputs": [],
   "source": [
    "from pyspark.ml.classification import NaiveBayes"
   ]
  },
  {
   "cell_type": "code",
   "execution_count": 297,
   "metadata": {
    "collapsed": true
   },
   "outputs": [],
   "source": [
    "nb = NaiveBayes()"
   ]
  },
  {
   "cell_type": "code",
   "execution_count": 298,
   "metadata": {
    "collapsed": true
   },
   "outputs": [],
   "source": [
    "nb_model = nb.fit(train)"
   ]
  },
  {
   "cell_type": "code",
   "execution_count": 299,
   "metadata": {
    "collapsed": true
   },
   "outputs": [],
   "source": [
    "model_predictions = nb_model.transform(test)"
   ]
  },
  {
   "cell_type": "code",
   "execution_count": 300,
   "metadata": {},
   "outputs": [
    {
     "data": {
      "text/plain": [
       "['features', 'label', 'rawPrediction', 'probability', 'prediction']"
      ]
     },
     "execution_count": 300,
     "metadata": {},
     "output_type": "execute_result"
    }
   ],
   "source": [
    "model_predictions.columns"
   ]
  },
  {
   "cell_type": "code",
   "execution_count": 301,
   "metadata": {},
   "outputs": [
    {
     "name": "stdout",
     "output_type": "stream",
     "text": [
      "+-----+----------------------------------------+----------+\n",
      "|label|probability                             |prediction|\n",
      "+-----+----------------------------------------+----------+\n",
      "|1    |[0.48630071280188164,0.5136992871981184]|1.0       |\n",
      "|0    |[0.49911662267320056,0.5008833773267994]|1.0       |\n",
      "|0    |[0.5044578946407129,0.49554210535928717]|0.0       |\n",
      "|0    |[0.40355230543479254,0.5964476945652075]|1.0       |\n",
      "|1    |[0.4045812569659479,0.5954187430340521] |1.0       |\n",
      "|1    |[0.4066416699033005,0.5933583300966995] |1.0       |\n",
      "|0    |[0.41077229948270594,0.589227700517294] |1.0       |\n",
      "|1    |[0.41077229948270594,0.589227700517294] |1.0       |\n",
      "|1    |[0.41284238036891824,0.5871576196310817]|1.0       |\n",
      "|1    |[0.42219493600486624,0.5778050639951338]|1.0       |\n",
      "+-----+----------------------------------------+----------+\n",
      "only showing top 10 rows\n",
      "\n"
     ]
    }
   ],
   "source": [
    "model_predictions.select(['label','probability','prediction']).show(10,False)"
   ]
  },
  {
   "cell_type": "code",
   "execution_count": 303,
   "metadata": {},
   "outputs": [
    {
     "name": "stdout",
     "output_type": "stream",
     "text": [
      "The auc value of NB Classifier  is 0.43543736717760884\n"
     ]
    }
   ],
   "source": [
    "nb_evaluator = BinaryClassificationEvaluator(metricName='areaUnderROC')\n",
    "nb_auroc = nb_evaluator.evaluate(model_predictions)\n",
    "print(f'The auc value of NB Classifier  is {nb_auroc}')\n",
    "\n"
   ]
  },
  {
   "cell_type": "code",
   "execution_count": 304,
   "metadata": {},
   "outputs": [
    {
     "name": "stdout",
     "output_type": "stream",
     "text": [
      "The aupr value of NB Classifier Model is 0.4321001351769349\n"
     ]
    }
   ],
   "source": [
    "nb_evaluator = BinaryClassificationEvaluator(metricName='areaUnderPR')\n",
    "nb_aupr =nb_evaluator.evaluate(model_predictions)\n",
    "print(f'The aupr value of NB Classifier Model is {nb_aupr}')\n"
   ]
  },
  {
   "cell_type": "code",
   "execution_count": 305,
   "metadata": {
    "collapsed": true
   },
   "outputs": [],
   "source": [
    "true_pos=model_predictions.filter(model_predictions['label']==1).filter(model_predictions['prediction']==1).count()\n",
    "actual_pos=model_predictions.filter(model_predictions['label']==1).count()\n",
    "pred_pos=model_predictions.filter(model_predictions['prediction']==1).count()"
   ]
  },
  {
   "cell_type": "code",
   "execution_count": 306,
   "metadata": {},
   "outputs": [
    {
     "data": {
      "text/plain": [
       "0.5867697594501718"
      ]
     },
     "execution_count": 306,
     "metadata": {},
     "output_type": "execute_result"
    }
   ],
   "source": [
    "float(true_pos)/(actual_pos)"
   ]
  },
  {
   "cell_type": "code",
   "execution_count": 307,
   "metadata": {},
   "outputs": [
    {
     "data": {
      "text/plain": [
       "0.6254578754578755"
      ]
     },
     "execution_count": 307,
     "metadata": {},
     "output_type": "execute_result"
    }
   ],
   "source": [
    "float(true_pos)/(pred_pos)"
   ]
  },
  {
   "cell_type": "code",
   "execution_count": null,
   "metadata": {
    "collapsed": true
   },
   "outputs": [],
   "source": []
  },
  {
   "cell_type": "code",
   "execution_count": null,
   "metadata": {
    "collapsed": true
   },
   "outputs": [],
   "source": []
  },
  {
   "cell_type": "code",
   "execution_count": 309,
   "metadata": {
    "collapsed": true
   },
   "outputs": [],
   "source": [
    "rf = RandomForestClassifier()\n",
    "rf_model = rf.fit(train)\n",
    "model_predictions = rf_model.transform(test)\n",
    "rf_evaluator = BinaryClassificationEvaluator(metricName='areaUnderROC')\n",
    "rf_auroc = rf_evaluator.evaluate(model_predictions)"
   ]
  },
  {
   "cell_type": "code",
   "execution_count": 321,
   "metadata": {
    "collapsed": true
   },
   "outputs": [],
   "source": [
    "from pyspark.ml.tuning import ParamGridBuilder, CrossValidator\n",
    "evaluator = BinaryClassificationEvaluator()\n",
    "\n",
    "rf = RandomForestClassifier()\n",
    "paramGrid = (ParamGridBuilder()\n",
    "             .addGrid(rf.maxDepth, [5,10,20,25,30])\n",
    "             .addGrid(rf.maxBins, [20,30,40,50 ])\n",
    "             .addGrid(rf.numTrees, [5, 20,50,100])\n",
    "             .build())\n",
    "cv = CrossValidator(estimator=rf, estimatorParamMaps=paramGrid, evaluator=rf_evaluator, numFolds=10)\n",
    "cv_model = cv.fit(train)\n"
   ]
  },
  {
   "cell_type": "code",
   "execution_count": 322,
   "metadata": {
    "collapsed": true
   },
   "outputs": [],
   "source": [
    "best_rf_model = cv_model.bestModel"
   ]
  },
  {
   "cell_type": "code",
   "execution_count": 323,
   "metadata": {
    "collapsed": true
   },
   "outputs": [],
   "source": [
    "# Generate predictions for entire dataset\n",
    "model_predictions = best_rf_model.transform(test)"
   ]
  },
  {
   "cell_type": "code",
   "execution_count": 324,
   "metadata": {
    "collapsed": true
   },
   "outputs": [],
   "source": [
    "# Evaluate best model\n",
    "rf_evaluator = BinaryClassificationEvaluator(metricName='areaUnderROC')\n",
    "rf_auroc = rf_evaluator.evaluate(model_predictions)"
   ]
  },
  {
   "cell_type": "code",
   "execution_count": 325,
   "metadata": {},
   "outputs": [
    {
     "data": {
      "text/plain": [
       "0.7425990374615659"
      ]
     },
     "execution_count": 325,
     "metadata": {},
     "output_type": "execute_result"
    }
   ],
   "source": [
    "rf_auroc"
   ]
  },
  {
   "cell_type": "code",
   "execution_count": 326,
   "metadata": {
    "collapsed": true
   },
   "outputs": [],
   "source": [
    "true_pos=model_predictions.filter(model_predictions['label']==1).filter(model_predictions['prediction']==1).count()\n",
    "actual_pos=model_predictions.filter(model_predictions['label']==1).count()\n",
    "pred_pos=model_predictions.filter(model_predictions['prediction']==1).count()"
   ]
  },
  {
   "cell_type": "code",
   "execution_count": 327,
   "metadata": {},
   "outputs": [
    {
     "data": {
      "text/plain": [
       "0.6520618556701031"
      ]
     },
     "execution_count": 327,
     "metadata": {},
     "output_type": "execute_result"
    }
   ],
   "source": [
    "float(true_pos)/(actual_pos)"
   ]
  },
  {
   "cell_type": "code",
   "execution_count": 328,
   "metadata": {},
   "outputs": [
    {
     "data": {
      "text/plain": [
       "0.6825539568345323"
      ]
     },
     "execution_count": 328,
     "metadata": {},
     "output_type": "execute_result"
    }
   ],
   "source": [
    "float(true_pos)/(pred_pos)"
   ]
  },
  {
   "cell_type": "code",
   "execution_count": null,
   "metadata": {
    "collapsed": true
   },
   "outputs": [],
   "source": []
  }
 ],
 "metadata": {
  "kernelspec": {
   "display_name": "Python 3",
   "language": "python",
   "name": "python3"
  },
  "language_info": {
   "codemirror_mode": {
    "name": "ipython",
    "version": 3
   },
   "file_extension": ".py",
   "mimetype": "text/x-python",
   "name": "python",
   "nbconvert_exporter": "python",
   "pygments_lexer": "ipython3",
   "version": "3.7.0"
  }
 },
 "nbformat": 4,
 "nbformat_minor": 2
}
